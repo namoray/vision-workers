{
 "cells": [
  {
   "cell_type": "code",
   "execution_count": 1,
   "metadata": {},
   "outputs": [],
   "source": [
    "%load_ext autoreload\n",
    "%autoreload 2\n"
   ]
  },
  {
   "cell_type": "code",
   "execution_count": 2,
   "metadata": {},
   "outputs": [],
   "source": [
    "from typing import Any\n",
    "from sdk.sdk import example_payload, example_completion_payload\n",
    "from loguru import logger\n",
    "import httpx\n",
    "import json\n",
    "from sdk import sdk\n",
    "\n",
    "async def get_real_response( payload: dict[str, Any] = example_payload, llm_url: str | None = None, chat: bool = True) -> dict[str, Any]:\n",
    "    if llm_url is None:\n",
    "        logger.warning(\"No LLM URL provided, using default\")\n",
    "        llm_url = \"http://llm_server:6919\"\n",
    "    async with httpx.AsyncClient() as client:\n",
    "        if chat:\n",
    "            response = await client.post(llm_url.rstrip(\"/\") + \"/v1/chat/completions\", json=payload)\n",
    "        else:\n",
    "            response = await client.post(llm_url.rstrip(\"/\") + \"/v1/completions\", json=payload)\n",
    "        if response.status_code != 200:\n",
    "            logger.error(f\"Error: {response.status_code} - {response.text}\")\n",
    "            return None\n",
    "        messages= []\n",
    "        async for chunk in response.aiter_lines():\n",
    "            if \"data: {\" not in chunk:\n",
    "                continue\n",
    "            data = json.loads(chunk.split(\"data: \")[1])\n",
    "            logprobs = data[\"choices\"][0][\"logprobs\"]\n",
    "            if logprobs is None:\n",
    "                continue\n",
    "            messages.append(data)\n",
    "        return messages"
   ]
  },
  {
   "cell_type": "code",
   "execution_count": 4,
   "metadata": {},
   "outputs": [
    {
     "ename": "ConnectError",
     "evalue": "All connection attempts failed",
     "output_type": "error",
     "traceback": [
      "\u001b[0;31m---------------------------------------------------------------------------\u001b[0m",
      "\u001b[0;31mConnectError\u001b[0m                              Traceback (most recent call last)",
      "File \u001b[0;32m~/Documents/tau-workers/venv/lib/python3.10/site-packages/httpx/_transports/default.py:69\u001b[0m, in \u001b[0;36mmap_httpcore_exceptions\u001b[0;34m()\u001b[0m\n\u001b[1;32m     68\u001b[0m \u001b[38;5;28;01mtry\u001b[39;00m:\n\u001b[0;32m---> 69\u001b[0m     \u001b[38;5;28;01myield\u001b[39;00m\n\u001b[1;32m     70\u001b[0m \u001b[38;5;28;01mexcept\u001b[39;00m \u001b[38;5;167;01mException\u001b[39;00m \u001b[38;5;28;01mas\u001b[39;00m exc:\n",
      "File \u001b[0;32m~/Documents/tau-workers/venv/lib/python3.10/site-packages/httpx/_transports/default.py:373\u001b[0m, in \u001b[0;36mAsyncHTTPTransport.handle_async_request\u001b[0;34m(self, request)\u001b[0m\n\u001b[1;32m    372\u001b[0m \u001b[38;5;28;01mwith\u001b[39;00m map_httpcore_exceptions():\n\u001b[0;32m--> 373\u001b[0m     resp \u001b[38;5;241m=\u001b[39m \u001b[38;5;28;01mawait\u001b[39;00m \u001b[38;5;28mself\u001b[39m\u001b[38;5;241m.\u001b[39m_pool\u001b[38;5;241m.\u001b[39mhandle_async_request(req)\n\u001b[1;32m    375\u001b[0m \u001b[38;5;28;01massert\u001b[39;00m \u001b[38;5;28misinstance\u001b[39m(resp\u001b[38;5;241m.\u001b[39mstream, typing\u001b[38;5;241m.\u001b[39mAsyncIterable)\n",
      "File \u001b[0;32m~/Documents/tau-workers/venv/lib/python3.10/site-packages/httpcore/_async/connection_pool.py:216\u001b[0m, in \u001b[0;36mAsyncConnectionPool.handle_async_request\u001b[0;34m(self, request)\u001b[0m\n\u001b[1;32m    215\u001b[0m     \u001b[38;5;28;01mawait\u001b[39;00m \u001b[38;5;28mself\u001b[39m\u001b[38;5;241m.\u001b[39m_close_connections(closing)\n\u001b[0;32m--> 216\u001b[0m     \u001b[38;5;28;01mraise\u001b[39;00m exc \u001b[38;5;28;01mfrom\u001b[39;00m \u001b[38;5;28;01mNone\u001b[39;00m\n\u001b[1;32m    218\u001b[0m \u001b[38;5;66;03m# Return the response. Note that in this case we still have to manage\u001b[39;00m\n\u001b[1;32m    219\u001b[0m \u001b[38;5;66;03m# the point at which the response is closed.\u001b[39;00m\n",
      "File \u001b[0;32m~/Documents/tau-workers/venv/lib/python3.10/site-packages/httpcore/_async/connection_pool.py:196\u001b[0m, in \u001b[0;36mAsyncConnectionPool.handle_async_request\u001b[0;34m(self, request)\u001b[0m\n\u001b[1;32m    194\u001b[0m \u001b[38;5;28;01mtry\u001b[39;00m:\n\u001b[1;32m    195\u001b[0m     \u001b[38;5;66;03m# Send the request on the assigned connection.\u001b[39;00m\n\u001b[0;32m--> 196\u001b[0m     response \u001b[38;5;241m=\u001b[39m \u001b[38;5;28;01mawait\u001b[39;00m connection\u001b[38;5;241m.\u001b[39mhandle_async_request(\n\u001b[1;32m    197\u001b[0m         pool_request\u001b[38;5;241m.\u001b[39mrequest\n\u001b[1;32m    198\u001b[0m     )\n\u001b[1;32m    199\u001b[0m \u001b[38;5;28;01mexcept\u001b[39;00m ConnectionNotAvailable:\n\u001b[1;32m    200\u001b[0m     \u001b[38;5;66;03m# In some cases a connection may initially be available to\u001b[39;00m\n\u001b[1;32m    201\u001b[0m     \u001b[38;5;66;03m# handle a request, but then become unavailable.\u001b[39;00m\n\u001b[1;32m    202\u001b[0m     \u001b[38;5;66;03m#\u001b[39;00m\n\u001b[1;32m    203\u001b[0m     \u001b[38;5;66;03m# In this case we clear the connection and try again.\u001b[39;00m\n",
      "File \u001b[0;32m~/Documents/tau-workers/venv/lib/python3.10/site-packages/httpcore/_async/connection.py:99\u001b[0m, in \u001b[0;36mAsyncHTTPConnection.handle_async_request\u001b[0;34m(self, request)\u001b[0m\n\u001b[1;32m     98\u001b[0m     \u001b[38;5;28mself\u001b[39m\u001b[38;5;241m.\u001b[39m_connect_failed \u001b[38;5;241m=\u001b[39m \u001b[38;5;28;01mTrue\u001b[39;00m\n\u001b[0;32m---> 99\u001b[0m     \u001b[38;5;28;01mraise\u001b[39;00m exc\n\u001b[1;32m    101\u001b[0m \u001b[38;5;28;01mreturn\u001b[39;00m \u001b[38;5;28;01mawait\u001b[39;00m \u001b[38;5;28mself\u001b[39m\u001b[38;5;241m.\u001b[39m_connection\u001b[38;5;241m.\u001b[39mhandle_async_request(request)\n",
      "File \u001b[0;32m~/Documents/tau-workers/venv/lib/python3.10/site-packages/httpcore/_async/connection.py:76\u001b[0m, in \u001b[0;36mAsyncHTTPConnection.handle_async_request\u001b[0;34m(self, request)\u001b[0m\n\u001b[1;32m     75\u001b[0m \u001b[38;5;28;01mif\u001b[39;00m \u001b[38;5;28mself\u001b[39m\u001b[38;5;241m.\u001b[39m_connection \u001b[38;5;129;01mis\u001b[39;00m \u001b[38;5;28;01mNone\u001b[39;00m:\n\u001b[0;32m---> 76\u001b[0m     stream \u001b[38;5;241m=\u001b[39m \u001b[38;5;28;01mawait\u001b[39;00m \u001b[38;5;28mself\u001b[39m\u001b[38;5;241m.\u001b[39m_connect(request)\n\u001b[1;32m     78\u001b[0m     ssl_object \u001b[38;5;241m=\u001b[39m stream\u001b[38;5;241m.\u001b[39mget_extra_info(\u001b[38;5;124m\"\u001b[39m\u001b[38;5;124mssl_object\u001b[39m\u001b[38;5;124m\"\u001b[39m)\n",
      "File \u001b[0;32m~/Documents/tau-workers/venv/lib/python3.10/site-packages/httpcore/_async/connection.py:122\u001b[0m, in \u001b[0;36mAsyncHTTPConnection._connect\u001b[0;34m(self, request)\u001b[0m\n\u001b[1;32m    121\u001b[0m \u001b[38;5;28;01masync\u001b[39;00m \u001b[38;5;28;01mwith\u001b[39;00m Trace(\u001b[38;5;124m\"\u001b[39m\u001b[38;5;124mconnect_tcp\u001b[39m\u001b[38;5;124m\"\u001b[39m, logger, request, kwargs) \u001b[38;5;28;01mas\u001b[39;00m trace:\n\u001b[0;32m--> 122\u001b[0m     stream \u001b[38;5;241m=\u001b[39m \u001b[38;5;28;01mawait\u001b[39;00m \u001b[38;5;28mself\u001b[39m\u001b[38;5;241m.\u001b[39m_network_backend\u001b[38;5;241m.\u001b[39mconnect_tcp(\u001b[38;5;241m*\u001b[39m\u001b[38;5;241m*\u001b[39mkwargs)\n\u001b[1;32m    123\u001b[0m     trace\u001b[38;5;241m.\u001b[39mreturn_value \u001b[38;5;241m=\u001b[39m stream\n",
      "File \u001b[0;32m~/Documents/tau-workers/venv/lib/python3.10/site-packages/httpcore/_backends/auto.py:30\u001b[0m, in \u001b[0;36mAutoBackend.connect_tcp\u001b[0;34m(self, host, port, timeout, local_address, socket_options)\u001b[0m\n\u001b[1;32m     29\u001b[0m \u001b[38;5;28;01mawait\u001b[39;00m \u001b[38;5;28mself\u001b[39m\u001b[38;5;241m.\u001b[39m_init_backend()\n\u001b[0;32m---> 30\u001b[0m \u001b[38;5;28;01mreturn\u001b[39;00m \u001b[38;5;28;01mawait\u001b[39;00m \u001b[38;5;28mself\u001b[39m\u001b[38;5;241m.\u001b[39m_backend\u001b[38;5;241m.\u001b[39mconnect_tcp(\n\u001b[1;32m     31\u001b[0m     host,\n\u001b[1;32m     32\u001b[0m     port,\n\u001b[1;32m     33\u001b[0m     timeout\u001b[38;5;241m=\u001b[39mtimeout,\n\u001b[1;32m     34\u001b[0m     local_address\u001b[38;5;241m=\u001b[39mlocal_address,\n\u001b[1;32m     35\u001b[0m     socket_options\u001b[38;5;241m=\u001b[39msocket_options,\n\u001b[1;32m     36\u001b[0m )\n",
      "File \u001b[0;32m~/Documents/tau-workers/venv/lib/python3.10/site-packages/httpcore/_backends/anyio.py:114\u001b[0m, in \u001b[0;36mAnyIOBackend.connect_tcp\u001b[0;34m(self, host, port, timeout, local_address, socket_options)\u001b[0m\n\u001b[1;32m    109\u001b[0m exc_map \u001b[38;5;241m=\u001b[39m {\n\u001b[1;32m    110\u001b[0m     \u001b[38;5;167;01mTimeoutError\u001b[39;00m: ConnectTimeout,\n\u001b[1;32m    111\u001b[0m     \u001b[38;5;167;01mOSError\u001b[39;00m: ConnectError,\n\u001b[1;32m    112\u001b[0m     anyio\u001b[38;5;241m.\u001b[39mBrokenResourceError: ConnectError,\n\u001b[1;32m    113\u001b[0m }\n\u001b[0;32m--> 114\u001b[0m \u001b[38;5;28;01mwith\u001b[39;00m map_exceptions(exc_map):\n\u001b[1;32m    115\u001b[0m     \u001b[38;5;28;01mwith\u001b[39;00m anyio\u001b[38;5;241m.\u001b[39mfail_after(timeout):\n",
      "File \u001b[0;32m~/.pyenv/versions/3.10.13/lib/python3.10/contextlib.py:153\u001b[0m, in \u001b[0;36m_GeneratorContextManager.__exit__\u001b[0;34m(self, typ, value, traceback)\u001b[0m\n\u001b[1;32m    152\u001b[0m \u001b[38;5;28;01mtry\u001b[39;00m:\n\u001b[0;32m--> 153\u001b[0m     \u001b[38;5;28;43mself\u001b[39;49m\u001b[38;5;241;43m.\u001b[39;49m\u001b[43mgen\u001b[49m\u001b[38;5;241;43m.\u001b[39;49m\u001b[43mthrow\u001b[49m\u001b[43m(\u001b[49m\u001b[43mtyp\u001b[49m\u001b[43m,\u001b[49m\u001b[43m \u001b[49m\u001b[43mvalue\u001b[49m\u001b[43m,\u001b[49m\u001b[43m \u001b[49m\u001b[43mtraceback\u001b[49m\u001b[43m)\u001b[49m\n\u001b[1;32m    154\u001b[0m \u001b[38;5;28;01mexcept\u001b[39;00m \u001b[38;5;167;01mStopIteration\u001b[39;00m \u001b[38;5;28;01mas\u001b[39;00m exc:\n\u001b[1;32m    155\u001b[0m     \u001b[38;5;66;03m# Suppress StopIteration *unless* it's the same exception that\u001b[39;00m\n\u001b[1;32m    156\u001b[0m     \u001b[38;5;66;03m# was passed to throw().  This prevents a StopIteration\u001b[39;00m\n\u001b[1;32m    157\u001b[0m     \u001b[38;5;66;03m# raised inside the \"with\" statement from being suppressed.\u001b[39;00m\n",
      "File \u001b[0;32m~/Documents/tau-workers/venv/lib/python3.10/site-packages/httpcore/_exceptions.py:14\u001b[0m, in \u001b[0;36mmap_exceptions\u001b[0;34m(map)\u001b[0m\n\u001b[1;32m     13\u001b[0m     \u001b[38;5;28;01mif\u001b[39;00m \u001b[38;5;28misinstance\u001b[39m(exc, from_exc):\n\u001b[0;32m---> 14\u001b[0m         \u001b[38;5;28;01mraise\u001b[39;00m to_exc(exc) \u001b[38;5;28;01mfrom\u001b[39;00m \u001b[38;5;21;01mexc\u001b[39;00m\n\u001b[1;32m     15\u001b[0m \u001b[38;5;28;01mraise\u001b[39;00m\n",
      "\u001b[0;31mConnectError\u001b[0m: All connection attempts failed",
      "\nThe above exception was the direct cause of the following exception:\n",
      "\u001b[0;31mConnectError\u001b[0m                              Traceback (most recent call last)",
      "Cell \u001b[0;32mIn[4], line 4\u001b[0m\n\u001b[1;32m      2\u001b[0m payload \u001b[38;5;241m=\u001b[39m example_payload\u001b[38;5;241m.\u001b[39mcopy()\n\u001b[1;32m      3\u001b[0m payload[\u001b[38;5;124m\"\u001b[39m\u001b[38;5;124mmodel\u001b[39m\u001b[38;5;124m\"\u001b[39m] \u001b[38;5;241m=\u001b[39m \u001b[38;5;124m\"\u001b[39m\u001b[38;5;124munsloth/Llama-3.2-3B-Instruct\u001b[39m\u001b[38;5;124m\"\u001b[39m\n\u001b[0;32m----> 4\u001b[0m messages \u001b[38;5;241m=\u001b[39m \u001b[38;5;28;01mawait\u001b[39;00m get_real_response(payload\u001b[38;5;241m=\u001b[39mpayload, chat\u001b[38;5;241m=\u001b[39m\u001b[38;5;28;01mTrue\u001b[39;00m, llm_url\u001b[38;5;241m=\u001b[39m\u001b[38;5;124m\"\u001b[39m\u001b[38;5;124mhttp://83.143.115.20:8000\u001b[39m\u001b[38;5;124m\"\u001b[39m)\n\u001b[1;32m      5\u001b[0m \u001b[38;5;28;01mawait\u001b[39;00m sdk\u001b[38;5;241m.\u001b[39mcheck_result(task\u001b[38;5;241m=\u001b[39m\u001b[38;5;124m\"\u001b[39m\u001b[38;5;124mchat-llama-3-2-3b\u001b[39m\u001b[38;5;124m\"\u001b[39m, orchestrator_url\u001b[38;5;241m=\u001b[39m\u001b[38;5;124m\"\u001b[39m\u001b[38;5;124mhttp://83.143.115.20:6920/\u001b[39m\u001b[38;5;124m\"\u001b[39m, miner_response\u001b[38;5;241m=\u001b[39mmessages[:])\n",
      "Cell \u001b[0;32mIn[2], line 14\u001b[0m, in \u001b[0;36mget_real_response\u001b[0;34m(payload, llm_url, chat)\u001b[0m\n\u001b[1;32m     12\u001b[0m \u001b[38;5;28;01masync\u001b[39;00m \u001b[38;5;28;01mwith\u001b[39;00m httpx\u001b[38;5;241m.\u001b[39mAsyncClient() \u001b[38;5;28;01mas\u001b[39;00m client:\n\u001b[1;32m     13\u001b[0m     \u001b[38;5;28;01mif\u001b[39;00m chat:\n\u001b[0;32m---> 14\u001b[0m         response \u001b[38;5;241m=\u001b[39m \u001b[38;5;28;01mawait\u001b[39;00m client\u001b[38;5;241m.\u001b[39mpost(llm_url\u001b[38;5;241m.\u001b[39mrstrip(\u001b[38;5;124m\"\u001b[39m\u001b[38;5;124m/\u001b[39m\u001b[38;5;124m\"\u001b[39m) \u001b[38;5;241m+\u001b[39m \u001b[38;5;124m\"\u001b[39m\u001b[38;5;124m/v1/chat/completions\u001b[39m\u001b[38;5;124m\"\u001b[39m, json\u001b[38;5;241m=\u001b[39mpayload)\n\u001b[1;32m     15\u001b[0m     \u001b[38;5;28;01melse\u001b[39;00m:\n\u001b[1;32m     16\u001b[0m         response \u001b[38;5;241m=\u001b[39m \u001b[38;5;28;01mawait\u001b[39;00m client\u001b[38;5;241m.\u001b[39mpost(llm_url\u001b[38;5;241m.\u001b[39mrstrip(\u001b[38;5;124m\"\u001b[39m\u001b[38;5;124m/\u001b[39m\u001b[38;5;124m\"\u001b[39m) \u001b[38;5;241m+\u001b[39m \u001b[38;5;124m\"\u001b[39m\u001b[38;5;124m/v1/completions\u001b[39m\u001b[38;5;124m\"\u001b[39m, json\u001b[38;5;241m=\u001b[39mpayload)\n",
      "File \u001b[0;32m~/Documents/tau-workers/venv/lib/python3.10/site-packages/httpx/_client.py:1892\u001b[0m, in \u001b[0;36mAsyncClient.post\u001b[0;34m(self, url, content, data, files, json, params, headers, cookies, auth, follow_redirects, timeout, extensions)\u001b[0m\n\u001b[1;32m   1871\u001b[0m \u001b[38;5;28;01masync\u001b[39;00m \u001b[38;5;28;01mdef\u001b[39;00m \u001b[38;5;21mpost\u001b[39m(\n\u001b[1;32m   1872\u001b[0m     \u001b[38;5;28mself\u001b[39m,\n\u001b[1;32m   1873\u001b[0m     url: URLTypes,\n\u001b[0;32m   (...)\u001b[0m\n\u001b[1;32m   1885\u001b[0m     extensions: RequestExtensions \u001b[38;5;241m|\u001b[39m \u001b[38;5;28;01mNone\u001b[39;00m \u001b[38;5;241m=\u001b[39m \u001b[38;5;28;01mNone\u001b[39;00m,\n\u001b[1;32m   1886\u001b[0m ) \u001b[38;5;241m-\u001b[39m\u001b[38;5;241m>\u001b[39m Response:\n\u001b[1;32m   1887\u001b[0m \u001b[38;5;250m    \u001b[39m\u001b[38;5;124;03m\"\"\"\u001b[39;00m\n\u001b[1;32m   1888\u001b[0m \u001b[38;5;124;03m    Send a `POST` request.\u001b[39;00m\n\u001b[1;32m   1889\u001b[0m \n\u001b[1;32m   1890\u001b[0m \u001b[38;5;124;03m    **Parameters**: See `httpx.request`.\u001b[39;00m\n\u001b[1;32m   1891\u001b[0m \u001b[38;5;124;03m    \"\"\"\u001b[39;00m\n\u001b[0;32m-> 1892\u001b[0m     \u001b[38;5;28;01mreturn\u001b[39;00m \u001b[38;5;28;01mawait\u001b[39;00m \u001b[38;5;28mself\u001b[39m\u001b[38;5;241m.\u001b[39mrequest(\n\u001b[1;32m   1893\u001b[0m         \u001b[38;5;124m\"\u001b[39m\u001b[38;5;124mPOST\u001b[39m\u001b[38;5;124m\"\u001b[39m,\n\u001b[1;32m   1894\u001b[0m         url,\n\u001b[1;32m   1895\u001b[0m         content\u001b[38;5;241m=\u001b[39mcontent,\n\u001b[1;32m   1896\u001b[0m         data\u001b[38;5;241m=\u001b[39mdata,\n\u001b[1;32m   1897\u001b[0m         files\u001b[38;5;241m=\u001b[39mfiles,\n\u001b[1;32m   1898\u001b[0m         json\u001b[38;5;241m=\u001b[39mjson,\n\u001b[1;32m   1899\u001b[0m         params\u001b[38;5;241m=\u001b[39mparams,\n\u001b[1;32m   1900\u001b[0m         headers\u001b[38;5;241m=\u001b[39mheaders,\n\u001b[1;32m   1901\u001b[0m         cookies\u001b[38;5;241m=\u001b[39mcookies,\n\u001b[1;32m   1902\u001b[0m         auth\u001b[38;5;241m=\u001b[39mauth,\n\u001b[1;32m   1903\u001b[0m         follow_redirects\u001b[38;5;241m=\u001b[39mfollow_redirects,\n\u001b[1;32m   1904\u001b[0m         timeout\u001b[38;5;241m=\u001b[39mtimeout,\n\u001b[1;32m   1905\u001b[0m         extensions\u001b[38;5;241m=\u001b[39mextensions,\n\u001b[1;32m   1906\u001b[0m     )\n",
      "File \u001b[0;32m~/Documents/tau-workers/venv/lib/python3.10/site-packages/httpx/_client.py:1574\u001b[0m, in \u001b[0;36mAsyncClient.request\u001b[0;34m(self, method, url, content, data, files, json, params, headers, cookies, auth, follow_redirects, timeout, extensions)\u001b[0m\n\u001b[1;32m   1559\u001b[0m     warnings\u001b[38;5;241m.\u001b[39mwarn(message, \u001b[38;5;167;01mDeprecationWarning\u001b[39;00m)\n\u001b[1;32m   1561\u001b[0m request \u001b[38;5;241m=\u001b[39m \u001b[38;5;28mself\u001b[39m\u001b[38;5;241m.\u001b[39mbuild_request(\n\u001b[1;32m   1562\u001b[0m     method\u001b[38;5;241m=\u001b[39mmethod,\n\u001b[1;32m   1563\u001b[0m     url\u001b[38;5;241m=\u001b[39murl,\n\u001b[0;32m   (...)\u001b[0m\n\u001b[1;32m   1572\u001b[0m     extensions\u001b[38;5;241m=\u001b[39mextensions,\n\u001b[1;32m   1573\u001b[0m )\n\u001b[0;32m-> 1574\u001b[0m \u001b[38;5;28;01mreturn\u001b[39;00m \u001b[38;5;28;01mawait\u001b[39;00m \u001b[38;5;28mself\u001b[39m\u001b[38;5;241m.\u001b[39msend(request, auth\u001b[38;5;241m=\u001b[39mauth, follow_redirects\u001b[38;5;241m=\u001b[39mfollow_redirects)\n",
      "File \u001b[0;32m~/Documents/tau-workers/venv/lib/python3.10/site-packages/httpx/_client.py:1661\u001b[0m, in \u001b[0;36mAsyncClient.send\u001b[0;34m(self, request, stream, auth, follow_redirects)\u001b[0m\n\u001b[1;32m   1653\u001b[0m follow_redirects \u001b[38;5;241m=\u001b[39m (\n\u001b[1;32m   1654\u001b[0m     \u001b[38;5;28mself\u001b[39m\u001b[38;5;241m.\u001b[39mfollow_redirects\n\u001b[1;32m   1655\u001b[0m     \u001b[38;5;28;01mif\u001b[39;00m \u001b[38;5;28misinstance\u001b[39m(follow_redirects, UseClientDefault)\n\u001b[1;32m   1656\u001b[0m     \u001b[38;5;28;01melse\u001b[39;00m follow_redirects\n\u001b[1;32m   1657\u001b[0m )\n\u001b[1;32m   1659\u001b[0m auth \u001b[38;5;241m=\u001b[39m \u001b[38;5;28mself\u001b[39m\u001b[38;5;241m.\u001b[39m_build_request_auth(request, auth)\n\u001b[0;32m-> 1661\u001b[0m response \u001b[38;5;241m=\u001b[39m \u001b[38;5;28;01mawait\u001b[39;00m \u001b[38;5;28mself\u001b[39m\u001b[38;5;241m.\u001b[39m_send_handling_auth(\n\u001b[1;32m   1662\u001b[0m     request,\n\u001b[1;32m   1663\u001b[0m     auth\u001b[38;5;241m=\u001b[39mauth,\n\u001b[1;32m   1664\u001b[0m     follow_redirects\u001b[38;5;241m=\u001b[39mfollow_redirects,\n\u001b[1;32m   1665\u001b[0m     history\u001b[38;5;241m=\u001b[39m[],\n\u001b[1;32m   1666\u001b[0m )\n\u001b[1;32m   1667\u001b[0m \u001b[38;5;28;01mtry\u001b[39;00m:\n\u001b[1;32m   1668\u001b[0m     \u001b[38;5;28;01mif\u001b[39;00m \u001b[38;5;129;01mnot\u001b[39;00m stream:\n",
      "File \u001b[0;32m~/Documents/tau-workers/venv/lib/python3.10/site-packages/httpx/_client.py:1689\u001b[0m, in \u001b[0;36mAsyncClient._send_handling_auth\u001b[0;34m(self, request, auth, follow_redirects, history)\u001b[0m\n\u001b[1;32m   1686\u001b[0m request \u001b[38;5;241m=\u001b[39m \u001b[38;5;28;01mawait\u001b[39;00m auth_flow\u001b[38;5;241m.\u001b[39m\u001b[38;5;21m__anext__\u001b[39m()\n\u001b[1;32m   1688\u001b[0m \u001b[38;5;28;01mwhile\u001b[39;00m \u001b[38;5;28;01mTrue\u001b[39;00m:\n\u001b[0;32m-> 1689\u001b[0m     response \u001b[38;5;241m=\u001b[39m \u001b[38;5;28;01mawait\u001b[39;00m \u001b[38;5;28mself\u001b[39m\u001b[38;5;241m.\u001b[39m_send_handling_redirects(\n\u001b[1;32m   1690\u001b[0m         request,\n\u001b[1;32m   1691\u001b[0m         follow_redirects\u001b[38;5;241m=\u001b[39mfollow_redirects,\n\u001b[1;32m   1692\u001b[0m         history\u001b[38;5;241m=\u001b[39mhistory,\n\u001b[1;32m   1693\u001b[0m     )\n\u001b[1;32m   1694\u001b[0m     \u001b[38;5;28;01mtry\u001b[39;00m:\n\u001b[1;32m   1695\u001b[0m         \u001b[38;5;28;01mtry\u001b[39;00m:\n",
      "File \u001b[0;32m~/Documents/tau-workers/venv/lib/python3.10/site-packages/httpx/_client.py:1726\u001b[0m, in \u001b[0;36mAsyncClient._send_handling_redirects\u001b[0;34m(self, request, follow_redirects, history)\u001b[0m\n\u001b[1;32m   1723\u001b[0m \u001b[38;5;28;01mfor\u001b[39;00m hook \u001b[38;5;129;01min\u001b[39;00m \u001b[38;5;28mself\u001b[39m\u001b[38;5;241m.\u001b[39m_event_hooks[\u001b[38;5;124m\"\u001b[39m\u001b[38;5;124mrequest\u001b[39m\u001b[38;5;124m\"\u001b[39m]:\n\u001b[1;32m   1724\u001b[0m     \u001b[38;5;28;01mawait\u001b[39;00m hook(request)\n\u001b[0;32m-> 1726\u001b[0m response \u001b[38;5;241m=\u001b[39m \u001b[38;5;28;01mawait\u001b[39;00m \u001b[38;5;28mself\u001b[39m\u001b[38;5;241m.\u001b[39m_send_single_request(request)\n\u001b[1;32m   1727\u001b[0m \u001b[38;5;28;01mtry\u001b[39;00m:\n\u001b[1;32m   1728\u001b[0m     \u001b[38;5;28;01mfor\u001b[39;00m hook \u001b[38;5;129;01min\u001b[39;00m \u001b[38;5;28mself\u001b[39m\u001b[38;5;241m.\u001b[39m_event_hooks[\u001b[38;5;124m\"\u001b[39m\u001b[38;5;124mresponse\u001b[39m\u001b[38;5;124m\"\u001b[39m]:\n",
      "File \u001b[0;32m~/Documents/tau-workers/venv/lib/python3.10/site-packages/httpx/_client.py:1763\u001b[0m, in \u001b[0;36mAsyncClient._send_single_request\u001b[0;34m(self, request)\u001b[0m\n\u001b[1;32m   1758\u001b[0m     \u001b[38;5;28;01mraise\u001b[39;00m \u001b[38;5;167;01mRuntimeError\u001b[39;00m(\n\u001b[1;32m   1759\u001b[0m         \u001b[38;5;124m\"\u001b[39m\u001b[38;5;124mAttempted to send an sync request with an AsyncClient instance.\u001b[39m\u001b[38;5;124m\"\u001b[39m\n\u001b[1;32m   1760\u001b[0m     )\n\u001b[1;32m   1762\u001b[0m \u001b[38;5;28;01mwith\u001b[39;00m request_context(request\u001b[38;5;241m=\u001b[39mrequest):\n\u001b[0;32m-> 1763\u001b[0m     response \u001b[38;5;241m=\u001b[39m \u001b[38;5;28;01mawait\u001b[39;00m transport\u001b[38;5;241m.\u001b[39mhandle_async_request(request)\n\u001b[1;32m   1765\u001b[0m \u001b[38;5;28;01massert\u001b[39;00m \u001b[38;5;28misinstance\u001b[39m(response\u001b[38;5;241m.\u001b[39mstream, AsyncByteStream)\n\u001b[1;32m   1766\u001b[0m response\u001b[38;5;241m.\u001b[39mrequest \u001b[38;5;241m=\u001b[39m request\n",
      "File \u001b[0;32m~/Documents/tau-workers/venv/lib/python3.10/site-packages/httpx/_transports/default.py:372\u001b[0m, in \u001b[0;36mAsyncHTTPTransport.handle_async_request\u001b[0;34m(self, request)\u001b[0m\n\u001b[1;32m    358\u001b[0m \u001b[38;5;28;01massert\u001b[39;00m \u001b[38;5;28misinstance\u001b[39m(request\u001b[38;5;241m.\u001b[39mstream, AsyncByteStream)\n\u001b[1;32m    360\u001b[0m req \u001b[38;5;241m=\u001b[39m httpcore\u001b[38;5;241m.\u001b[39mRequest(\n\u001b[1;32m    361\u001b[0m     method\u001b[38;5;241m=\u001b[39mrequest\u001b[38;5;241m.\u001b[39mmethod,\n\u001b[1;32m    362\u001b[0m     url\u001b[38;5;241m=\u001b[39mhttpcore\u001b[38;5;241m.\u001b[39mURL(\n\u001b[0;32m   (...)\u001b[0m\n\u001b[1;32m    370\u001b[0m     extensions\u001b[38;5;241m=\u001b[39mrequest\u001b[38;5;241m.\u001b[39mextensions,\n\u001b[1;32m    371\u001b[0m )\n\u001b[0;32m--> 372\u001b[0m \u001b[38;5;28;01mwith\u001b[39;00m map_httpcore_exceptions():\n\u001b[1;32m    373\u001b[0m     resp \u001b[38;5;241m=\u001b[39m \u001b[38;5;28;01mawait\u001b[39;00m \u001b[38;5;28mself\u001b[39m\u001b[38;5;241m.\u001b[39m_pool\u001b[38;5;241m.\u001b[39mhandle_async_request(req)\n\u001b[1;32m    375\u001b[0m \u001b[38;5;28;01massert\u001b[39;00m \u001b[38;5;28misinstance\u001b[39m(resp\u001b[38;5;241m.\u001b[39mstream, typing\u001b[38;5;241m.\u001b[39mAsyncIterable)\n",
      "File \u001b[0;32m~/.pyenv/versions/3.10.13/lib/python3.10/contextlib.py:153\u001b[0m, in \u001b[0;36m_GeneratorContextManager.__exit__\u001b[0;34m(self, typ, value, traceback)\u001b[0m\n\u001b[1;32m    151\u001b[0m     value \u001b[38;5;241m=\u001b[39m typ()\n\u001b[1;32m    152\u001b[0m \u001b[38;5;28;01mtry\u001b[39;00m:\n\u001b[0;32m--> 153\u001b[0m     \u001b[38;5;28;43mself\u001b[39;49m\u001b[38;5;241;43m.\u001b[39;49m\u001b[43mgen\u001b[49m\u001b[38;5;241;43m.\u001b[39;49m\u001b[43mthrow\u001b[49m\u001b[43m(\u001b[49m\u001b[43mtyp\u001b[49m\u001b[43m,\u001b[49m\u001b[43m \u001b[49m\u001b[43mvalue\u001b[49m\u001b[43m,\u001b[49m\u001b[43m \u001b[49m\u001b[43mtraceback\u001b[49m\u001b[43m)\u001b[49m\n\u001b[1;32m    154\u001b[0m \u001b[38;5;28;01mexcept\u001b[39;00m \u001b[38;5;167;01mStopIteration\u001b[39;00m \u001b[38;5;28;01mas\u001b[39;00m exc:\n\u001b[1;32m    155\u001b[0m     \u001b[38;5;66;03m# Suppress StopIteration *unless* it's the same exception that\u001b[39;00m\n\u001b[1;32m    156\u001b[0m     \u001b[38;5;66;03m# was passed to throw().  This prevents a StopIteration\u001b[39;00m\n\u001b[1;32m    157\u001b[0m     \u001b[38;5;66;03m# raised inside the \"with\" statement from being suppressed.\u001b[39;00m\n\u001b[1;32m    158\u001b[0m     \u001b[38;5;28;01mreturn\u001b[39;00m exc \u001b[38;5;129;01mis\u001b[39;00m \u001b[38;5;129;01mnot\u001b[39;00m value\n",
      "File \u001b[0;32m~/Documents/tau-workers/venv/lib/python3.10/site-packages/httpx/_transports/default.py:86\u001b[0m, in \u001b[0;36mmap_httpcore_exceptions\u001b[0;34m()\u001b[0m\n\u001b[1;32m     83\u001b[0m     \u001b[38;5;28;01mraise\u001b[39;00m\n\u001b[1;32m     85\u001b[0m message \u001b[38;5;241m=\u001b[39m \u001b[38;5;28mstr\u001b[39m(exc)\n\u001b[0;32m---> 86\u001b[0m \u001b[38;5;28;01mraise\u001b[39;00m mapped_exc(message) \u001b[38;5;28;01mfrom\u001b[39;00m \u001b[38;5;21;01mexc\u001b[39;00m\n",
      "\u001b[0;31mConnectError\u001b[0m: All connection attempts failed"
     ]
    }
   ],
   "source": [
    "# Check for chat \n",
    "payload = example_payload.copy()\n",
    "payload[\"model\"] = \"unsloth/Llama-3.2-3B-Instruct\"\n",
    "messages = await get_real_response(payload=payload, chat=True, llm_url=\"http://83.143.115.20:6919\")\n",
    "await sdk.check_result(task=\"chat-llama-3-2-3b\", orchestrator_url=\"http://83.143.115.20:6920/\", miner_response=messages[:])"
   ]
  },
  {
   "cell_type": "code",
   "execution_count": 6,
   "metadata": {},
   "outputs": [
    {
     "name": "stderr",
     "output_type": "stream",
     "text": [
      "\u001b[32m2024-12-03 20:42:42.268\u001b[0m | \u001b[1mINFO    \u001b[0m | \u001b[36msdk.sdk\u001b[0m:\u001b[36mcheck_result\u001b[0m:\u001b[36m112\u001b[0m - \u001b[1mGot task ID: 1b92da11-8eaa-44d9-94e6-207b721b9d4e !!!\u001b[0m\n",
      "\u001b[32m2024-12-03 20:42:42.276\u001b[0m | \u001b[1mINFO    \u001b[0m | \u001b[36msdk.orchestrator_handling\u001b[0m:\u001b[36mhandle_task_id\u001b[0m:\u001b[36m21\u001b[0m - \u001b[1mWaiting for task 1b92da11-8eaa-44d9-94e6-207b721b9d4e to be done - check number: 1\u001b[0m\n",
      "\u001b[32m2024-12-03 20:42:43.636\u001b[0m | \u001b[1mINFO    \u001b[0m | \u001b[36msdk.orchestrator_handling\u001b[0m:\u001b[36mhandle_task_id\u001b[0m:\u001b[36m21\u001b[0m - \u001b[1mWaiting for task 1b92da11-8eaa-44d9-94e6-207b721b9d4e to be done - check number: 2\u001b[0m\n",
      "\u001b[32m2024-12-03 20:42:44.877\u001b[0m | \u001b[1mINFO    \u001b[0m | \u001b[36msdk.orchestrator_handling\u001b[0m:\u001b[36mhandle_task_id\u001b[0m:\u001b[36m21\u001b[0m - \u001b[1mWaiting for task 1b92da11-8eaa-44d9-94e6-207b721b9d4e to be done - check number: 3\u001b[0m\n",
      "\u001b[32m2024-12-03 20:42:46.124\u001b[0m | \u001b[1mINFO    \u001b[0m | \u001b[36msdk.orchestrator_handling\u001b[0m:\u001b[36mhandle_task_id\u001b[0m:\u001b[36m21\u001b[0m - \u001b[1mWaiting for task 1b92da11-8eaa-44d9-94e6-207b721b9d4e to be done - check number: 4\u001b[0m\n",
      "\u001b[32m2024-12-03 20:42:49.478\u001b[0m | \u001b[1mINFO    \u001b[0m | \u001b[36msdk.orchestrator_handling\u001b[0m:\u001b[36mhandle_task_id\u001b[0m:\u001b[36m21\u001b[0m - \u001b[1mWaiting for task 1b92da11-8eaa-44d9-94e6-207b721b9d4e to be done - check number: 5\u001b[0m\n",
      "\u001b[32m2024-12-03 20:42:50.725\u001b[0m | \u001b[1mINFO    \u001b[0m | \u001b[36msdk.orchestrator_handling\u001b[0m:\u001b[36mhandle_task_id\u001b[0m:\u001b[36m21\u001b[0m - \u001b[1mWaiting for task 1b92da11-8eaa-44d9-94e6-207b721b9d4e to be done - check number: 6\u001b[0m\n",
      "\u001b[32m2024-12-03 20:42:51.970\u001b[0m | \u001b[1mINFO    \u001b[0m | \u001b[36msdk.orchestrator_handling\u001b[0m:\u001b[36mhandle_task_id\u001b[0m:\u001b[36m21\u001b[0m - \u001b[1mWaiting for task 1b92da11-8eaa-44d9-94e6-207b721b9d4e to be done - check number: 7\u001b[0m\n",
      "\u001b[32m2024-12-03 20:42:53.219\u001b[0m | \u001b[1mINFO    \u001b[0m | \u001b[36msdk.orchestrator_handling\u001b[0m:\u001b[36mhandle_task_id\u001b[0m:\u001b[36m21\u001b[0m - \u001b[1mWaiting for task 1b92da11-8eaa-44d9-94e6-207b721b9d4e to be done - check number: 8\u001b[0m\n",
      "\u001b[32m2024-12-03 20:42:54.467\u001b[0m | \u001b[1mINFO    \u001b[0m | \u001b[36msdk.orchestrator_handling\u001b[0m:\u001b[36mhandle_task_id\u001b[0m:\u001b[36m21\u001b[0m - \u001b[1mWaiting for task 1b92da11-8eaa-44d9-94e6-207b721b9d4e to be done - check number: 9\u001b[0m\n",
      "\u001b[32m2024-12-03 20:42:55.708\u001b[0m | \u001b[1mINFO    \u001b[0m | \u001b[36msdk.orchestrator_handling\u001b[0m:\u001b[36mhandle_task_id\u001b[0m:\u001b[36m21\u001b[0m - \u001b[1mWaiting for task 1b92da11-8eaa-44d9-94e6-207b721b9d4e to be done - check number: 10\u001b[0m\n",
      "\u001b[32m2024-12-03 20:42:56.950\u001b[0m | \u001b[1mINFO    \u001b[0m | \u001b[36msdk.orchestrator_handling\u001b[0m:\u001b[36mhandle_task_id\u001b[0m:\u001b[36m21\u001b[0m - \u001b[1mWaiting for task 1b92da11-8eaa-44d9-94e6-207b721b9d4e to be done - check number: 11\u001b[0m\n",
      "\u001b[32m2024-12-03 20:42:58.196\u001b[0m | \u001b[1mINFO    \u001b[0m | \u001b[36msdk.orchestrator_handling\u001b[0m:\u001b[36mhandle_task_id\u001b[0m:\u001b[36m21\u001b[0m - \u001b[1mWaiting for task 1b92da11-8eaa-44d9-94e6-207b721b9d4e to be done - check number: 12\u001b[0m\n",
      "\u001b[32m2024-12-03 20:42:59.440\u001b[0m | \u001b[1mINFO    \u001b[0m | \u001b[36msdk.orchestrator_handling\u001b[0m:\u001b[36mhandle_task_id\u001b[0m:\u001b[36m21\u001b[0m - \u001b[1mWaiting for task 1b92da11-8eaa-44d9-94e6-207b721b9d4e to be done - check number: 13\u001b[0m\n",
      "\u001b[32m2024-12-03 20:43:00.682\u001b[0m | \u001b[1mINFO    \u001b[0m | \u001b[36msdk.orchestrator_handling\u001b[0m:\u001b[36mhandle_task_id\u001b[0m:\u001b[36m21\u001b[0m - \u001b[1mWaiting for task 1b92da11-8eaa-44d9-94e6-207b721b9d4e to be done - check number: 14\u001b[0m\n",
      "\u001b[32m2024-12-03 20:43:01.928\u001b[0m | \u001b[1mINFO    \u001b[0m | \u001b[36msdk.orchestrator_handling\u001b[0m:\u001b[36mhandle_task_id\u001b[0m:\u001b[36m21\u001b[0m - \u001b[1mWaiting for task 1b92da11-8eaa-44d9-94e6-207b721b9d4e to be done - check number: 15\u001b[0m\n",
      "\u001b[32m2024-12-03 20:43:03.169\u001b[0m | \u001b[1mINFO    \u001b[0m | \u001b[36msdk.orchestrator_handling\u001b[0m:\u001b[36mhandle_task_id\u001b[0m:\u001b[36m21\u001b[0m - \u001b[1mWaiting for task 1b92da11-8eaa-44d9-94e6-207b721b9d4e to be done - check number: 16\u001b[0m\n",
      "\u001b[32m2024-12-03 20:43:04.425\u001b[0m | \u001b[1mINFO    \u001b[0m | \u001b[36msdk.orchestrator_handling\u001b[0m:\u001b[36mhandle_task_id\u001b[0m:\u001b[36m21\u001b[0m - \u001b[1mWaiting for task 1b92da11-8eaa-44d9-94e6-207b721b9d4e to be done - check number: 17\u001b[0m\n",
      "\u001b[32m2024-12-03 20:43:05.689\u001b[0m | \u001b[1mINFO    \u001b[0m | \u001b[36msdk.orchestrator_handling\u001b[0m:\u001b[36mhandle_task_id\u001b[0m:\u001b[36m21\u001b[0m - \u001b[1mWaiting for task 1b92da11-8eaa-44d9-94e6-207b721b9d4e to be done - check number: 18\u001b[0m\n",
      "\u001b[32m2024-12-03 20:43:06.979\u001b[0m | \u001b[1mINFO    \u001b[0m | \u001b[36msdk.orchestrator_handling\u001b[0m:\u001b[36mhandle_task_id\u001b[0m:\u001b[36m21\u001b[0m - \u001b[1mWaiting for task 1b92da11-8eaa-44d9-94e6-207b721b9d4e to be done - check number: 19\u001b[0m\n",
      "\u001b[32m2024-12-03 20:43:08.263\u001b[0m | \u001b[1mINFO    \u001b[0m | \u001b[36msdk.orchestrator_handling\u001b[0m:\u001b[36mhandle_task_id\u001b[0m:\u001b[36m21\u001b[0m - \u001b[1mWaiting for task 1b92da11-8eaa-44d9-94e6-207b721b9d4e to be done - check number: 20\u001b[0m\n",
      "\u001b[32m2024-12-03 20:43:09.539\u001b[0m | \u001b[1mINFO    \u001b[0m | \u001b[36msdk.orchestrator_handling\u001b[0m:\u001b[36mhandle_task_id\u001b[0m:\u001b[36m21\u001b[0m - \u001b[1mWaiting for task 1b92da11-8eaa-44d9-94e6-207b721b9d4e to be done - check number: 21\u001b[0m\n",
      "\u001b[32m2024-12-03 20:43:10.812\u001b[0m | \u001b[1mINFO    \u001b[0m | \u001b[36msdk.orchestrator_handling\u001b[0m:\u001b[36mhandle_task_id\u001b[0m:\u001b[36m21\u001b[0m - \u001b[1mWaiting for task 1b92da11-8eaa-44d9-94e6-207b721b9d4e to be done - check number: 22\u001b[0m\n",
      "\u001b[32m2024-12-03 20:43:12.092\u001b[0m | \u001b[1mINFO    \u001b[0m | \u001b[36msdk.orchestrator_handling\u001b[0m:\u001b[36mhandle_task_id\u001b[0m:\u001b[36m21\u001b[0m - \u001b[1mWaiting for task 1b92da11-8eaa-44d9-94e6-207b721b9d4e to be done - check number: 23\u001b[0m\n",
      "\u001b[32m2024-12-03 20:43:13.362\u001b[0m | \u001b[1mINFO    \u001b[0m | \u001b[36msdk.orchestrator_handling\u001b[0m:\u001b[36mhandle_task_id\u001b[0m:\u001b[36m21\u001b[0m - \u001b[1mWaiting for task 1b92da11-8eaa-44d9-94e6-207b721b9d4e to be done - check number: 24\u001b[0m\n",
      "\u001b[32m2024-12-03 20:43:14.655\u001b[0m | \u001b[1mINFO    \u001b[0m | \u001b[36msdk.orchestrator_handling\u001b[0m:\u001b[36mhandle_task_id\u001b[0m:\u001b[36m21\u001b[0m - \u001b[1mWaiting for task 1b92da11-8eaa-44d9-94e6-207b721b9d4e to be done - check number: 25\u001b[0m\n",
      "\u001b[32m2024-12-03 20:43:16.028\u001b[0m | \u001b[1mINFO    \u001b[0m | \u001b[36msdk.orchestrator_handling\u001b[0m:\u001b[36mhandle_task_id\u001b[0m:\u001b[36m21\u001b[0m - \u001b[1mWaiting for task 1b92da11-8eaa-44d9-94e6-207b721b9d4e to be done - check number: 26\u001b[0m\n",
      "\u001b[32m2024-12-03 20:43:17.521\u001b[0m | \u001b[1mINFO    \u001b[0m | \u001b[36msdk.orchestrator_handling\u001b[0m:\u001b[36mhandle_task_id\u001b[0m:\u001b[36m21\u001b[0m - \u001b[1mWaiting for task 1b92da11-8eaa-44d9-94e6-207b721b9d4e to be done - check number: 27\u001b[0m\n",
      "\u001b[32m2024-12-03 20:43:18.807\u001b[0m | \u001b[1mINFO    \u001b[0m | \u001b[36msdk.orchestrator_handling\u001b[0m:\u001b[36mhandle_task_id\u001b[0m:\u001b[36m21\u001b[0m - \u001b[1mWaiting for task 1b92da11-8eaa-44d9-94e6-207b721b9d4e to be done - check number: 28\u001b[0m\n",
      "\u001b[32m2024-12-03 20:43:20.088\u001b[0m | \u001b[1mINFO    \u001b[0m | \u001b[36msdk.orchestrator_handling\u001b[0m:\u001b[36mhandle_task_id\u001b[0m:\u001b[36m21\u001b[0m - \u001b[1mWaiting for task 1b92da11-8eaa-44d9-94e6-207b721b9d4e to be done - check number: 29\u001b[0m\n",
      "\u001b[32m2024-12-03 20:43:21.371\u001b[0m | \u001b[1mINFO    \u001b[0m | \u001b[36msdk.orchestrator_handling\u001b[0m:\u001b[36mhandle_task_id\u001b[0m:\u001b[36m21\u001b[0m - \u001b[1mWaiting for task 1b92da11-8eaa-44d9-94e6-207b721b9d4e to be done - check number: 30\u001b[0m\n",
      "\u001b[32m2024-12-03 20:43:22.643\u001b[0m | \u001b[1mINFO    \u001b[0m | \u001b[36msdk.orchestrator_handling\u001b[0m:\u001b[36mhandle_task_id\u001b[0m:\u001b[36m21\u001b[0m - \u001b[1mWaiting for task 1b92da11-8eaa-44d9-94e6-207b721b9d4e to be done - check number: 31\u001b[0m\n",
      "\u001b[32m2024-12-03 20:43:23.910\u001b[0m | \u001b[1mINFO    \u001b[0m | \u001b[36msdk.orchestrator_handling\u001b[0m:\u001b[36mhandle_task_id\u001b[0m:\u001b[36m21\u001b[0m - \u001b[1mWaiting for task 1b92da11-8eaa-44d9-94e6-207b721b9d4e to be done - check number: 32\u001b[0m\n",
      "\u001b[32m2024-12-03 20:43:25.192\u001b[0m | \u001b[1mINFO    \u001b[0m | \u001b[36msdk.orchestrator_handling\u001b[0m:\u001b[36mhandle_task_id\u001b[0m:\u001b[36m21\u001b[0m - \u001b[1mWaiting for task 1b92da11-8eaa-44d9-94e6-207b721b9d4e to be done - check number: 33\u001b[0m\n",
      "\u001b[32m2024-12-03 20:43:26.472\u001b[0m | \u001b[1mINFO    \u001b[0m | \u001b[36msdk.orchestrator_handling\u001b[0m:\u001b[36mhandle_task_id\u001b[0m:\u001b[36m21\u001b[0m - \u001b[1mWaiting for task 1b92da11-8eaa-44d9-94e6-207b721b9d4e to be done - check number: 34\u001b[0m\n",
      "\u001b[32m2024-12-03 20:43:27.749\u001b[0m | \u001b[1mINFO    \u001b[0m | \u001b[36msdk.orchestrator_handling\u001b[0m:\u001b[36mhandle_task_id\u001b[0m:\u001b[36m21\u001b[0m - \u001b[1mWaiting for task 1b92da11-8eaa-44d9-94e6-207b721b9d4e to be done - check number: 35\u001b[0m\n",
      "\u001b[32m2024-12-03 20:43:29.029\u001b[0m | \u001b[1mINFO    \u001b[0m | \u001b[36msdk.orchestrator_handling\u001b[0m:\u001b[36mhandle_task_id\u001b[0m:\u001b[36m21\u001b[0m - \u001b[1mWaiting for task 1b92da11-8eaa-44d9-94e6-207b721b9d4e to be done - check number: 36\u001b[0m\n",
      "\u001b[32m2024-12-03 20:43:30.292\u001b[0m | \u001b[1mINFO    \u001b[0m | \u001b[36msdk.orchestrator_handling\u001b[0m:\u001b[36mhandle_task_id\u001b[0m:\u001b[36m21\u001b[0m - \u001b[1mWaiting for task 1b92da11-8eaa-44d9-94e6-207b721b9d4e to be done - check number: 37\u001b[0m\n",
      "\u001b[32m2024-12-03 20:43:31.576\u001b[0m | \u001b[1mINFO    \u001b[0m | \u001b[36msdk.orchestrator_handling\u001b[0m:\u001b[36mhandle_task_id\u001b[0m:\u001b[36m21\u001b[0m - \u001b[1mWaiting for task 1b92da11-8eaa-44d9-94e6-207b721b9d4e to be done - check number: 38\u001b[0m\n",
      "\u001b[32m2024-12-03 20:43:32.860\u001b[0m | \u001b[1mINFO    \u001b[0m | \u001b[36msdk.orchestrator_handling\u001b[0m:\u001b[36mhandle_task_id\u001b[0m:\u001b[36m21\u001b[0m - \u001b[1mWaiting for task 1b92da11-8eaa-44d9-94e6-207b721b9d4e to be done - check number: 39\u001b[0m\n",
      "\u001b[32m2024-12-03 20:43:34.145\u001b[0m | \u001b[1mINFO    \u001b[0m | \u001b[36msdk.orchestrator_handling\u001b[0m:\u001b[36mhandle_task_id\u001b[0m:\u001b[36m21\u001b[0m - \u001b[1mWaiting for task 1b92da11-8eaa-44d9-94e6-207b721b9d4e to be done - check number: 40\u001b[0m\n",
      "\u001b[32m2024-12-03 20:43:35.425\u001b[0m | \u001b[1mINFO    \u001b[0m | \u001b[36msdk.orchestrator_handling\u001b[0m:\u001b[36mhandle_task_id\u001b[0m:\u001b[36m21\u001b[0m - \u001b[1mWaiting for task 1b92da11-8eaa-44d9-94e6-207b721b9d4e to be done - check number: 41\u001b[0m\n",
      "\u001b[32m2024-12-03 20:43:36.972\u001b[0m | \u001b[1mINFO    \u001b[0m | \u001b[36msdk.orchestrator_handling\u001b[0m:\u001b[36mhandle_task_id\u001b[0m:\u001b[36m21\u001b[0m - \u001b[1mWaiting for task 1b92da11-8eaa-44d9-94e6-207b721b9d4e to be done - check number: 42\u001b[0m\n",
      "\u001b[32m2024-12-03 20:43:38.256\u001b[0m | \u001b[1mINFO    \u001b[0m | \u001b[36msdk.orchestrator_handling\u001b[0m:\u001b[36mhandle_task_id\u001b[0m:\u001b[36m21\u001b[0m - \u001b[1mWaiting for task 1b92da11-8eaa-44d9-94e6-207b721b9d4e to be done - check number: 43\u001b[0m\n",
      "\u001b[32m2024-12-03 20:43:39.537\u001b[0m | \u001b[1mINFO    \u001b[0m | \u001b[36msdk.orchestrator_handling\u001b[0m:\u001b[36mhandle_task_id\u001b[0m:\u001b[36m21\u001b[0m - \u001b[1mWaiting for task 1b92da11-8eaa-44d9-94e6-207b721b9d4e to be done - check number: 44\u001b[0m\n",
      "\u001b[32m2024-12-03 20:43:40.820\u001b[0m | \u001b[1mINFO    \u001b[0m | \u001b[36msdk.orchestrator_handling\u001b[0m:\u001b[36mhandle_task_id\u001b[0m:\u001b[36m21\u001b[0m - \u001b[1mWaiting for task 1b92da11-8eaa-44d9-94e6-207b721b9d4e to be done - check number: 45\u001b[0m\n",
      "\u001b[32m2024-12-03 20:43:42.103\u001b[0m | \u001b[1mINFO    \u001b[0m | \u001b[36msdk.orchestrator_handling\u001b[0m:\u001b[36mhandle_task_id\u001b[0m:\u001b[36m21\u001b[0m - \u001b[1mWaiting for task 1b92da11-8eaa-44d9-94e6-207b721b9d4e to be done - check number: 46\u001b[0m\n",
      "\u001b[32m2024-12-03 20:43:43.648\u001b[0m | \u001b[1mINFO    \u001b[0m | \u001b[36msdk.orchestrator_handling\u001b[0m:\u001b[36mhandle_task_id\u001b[0m:\u001b[36m21\u001b[0m - \u001b[1mWaiting for task 1b92da11-8eaa-44d9-94e6-207b721b9d4e to be done - check number: 47\u001b[0m\n",
      "\u001b[32m2024-12-03 20:43:44.933\u001b[0m | \u001b[1mINFO    \u001b[0m | \u001b[36msdk.orchestrator_handling\u001b[0m:\u001b[36mhandle_task_id\u001b[0m:\u001b[36m21\u001b[0m - \u001b[1mWaiting for task 1b92da11-8eaa-44d9-94e6-207b721b9d4e to be done - check number: 48\u001b[0m\n",
      "\u001b[32m2024-12-03 20:43:46.217\u001b[0m | \u001b[1mINFO    \u001b[0m | \u001b[36msdk.orchestrator_handling\u001b[0m:\u001b[36mhandle_task_id\u001b[0m:\u001b[36m21\u001b[0m - \u001b[1mWaiting for task 1b92da11-8eaa-44d9-94e6-207b721b9d4e to be done - check number: 49\u001b[0m\n",
      "\u001b[32m2024-12-03 20:43:47.502\u001b[0m | \u001b[1mINFO    \u001b[0m | \u001b[36msdk.orchestrator_handling\u001b[0m:\u001b[36mhandle_task_id\u001b[0m:\u001b[36m21\u001b[0m - \u001b[1mWaiting for task 1b92da11-8eaa-44d9-94e6-207b721b9d4e to be done - check number: 50\u001b[0m\n",
      "\u001b[32m2024-12-03 20:43:48.793\u001b[0m | \u001b[1mINFO    \u001b[0m | \u001b[36msdk.orchestrator_handling\u001b[0m:\u001b[36mhandle_task_id\u001b[0m:\u001b[36m21\u001b[0m - \u001b[1mWaiting for task 1b92da11-8eaa-44d9-94e6-207b721b9d4e to be done - check number: 51\u001b[0m\n",
      "\u001b[32m2024-12-03 20:43:50.071\u001b[0m | \u001b[1mINFO    \u001b[0m | \u001b[36msdk.orchestrator_handling\u001b[0m:\u001b[36mhandle_task_id\u001b[0m:\u001b[36m21\u001b[0m - \u001b[1mWaiting for task 1b92da11-8eaa-44d9-94e6-207b721b9d4e to be done - check number: 52\u001b[0m\n",
      "\u001b[32m2024-12-03 20:43:51.820\u001b[0m | \u001b[1mINFO    \u001b[0m | \u001b[36msdk.orchestrator_handling\u001b[0m:\u001b[36mhandle_task_id\u001b[0m:\u001b[36m21\u001b[0m - \u001b[1mWaiting for task 1b92da11-8eaa-44d9-94e6-207b721b9d4e to be done - check number: 53\u001b[0m\n",
      "\u001b[32m2024-12-03 20:43:53.109\u001b[0m | \u001b[1mINFO    \u001b[0m | \u001b[36msdk.orchestrator_handling\u001b[0m:\u001b[36mhandle_task_id\u001b[0m:\u001b[36m21\u001b[0m - \u001b[1mWaiting for task 1b92da11-8eaa-44d9-94e6-207b721b9d4e to be done - check number: 54\u001b[0m\n",
      "\u001b[32m2024-12-03 20:43:54.748\u001b[0m | \u001b[1mINFO    \u001b[0m | \u001b[36msdk.orchestrator_handling\u001b[0m:\u001b[36mhandle_task_id\u001b[0m:\u001b[36m21\u001b[0m - \u001b[1mWaiting for task 1b92da11-8eaa-44d9-94e6-207b721b9d4e to be done - check number: 55\u001b[0m\n",
      "\u001b[32m2024-12-03 20:43:56.029\u001b[0m | \u001b[1mINFO    \u001b[0m | \u001b[36msdk.orchestrator_handling\u001b[0m:\u001b[36mhandle_task_id\u001b[0m:\u001b[36m21\u001b[0m - \u001b[1mWaiting for task 1b92da11-8eaa-44d9-94e6-207b721b9d4e to be done - check number: 56\u001b[0m\n",
      "\u001b[32m2024-12-03 20:43:57.351\u001b[0m | \u001b[1mINFO    \u001b[0m | \u001b[36msdk.orchestrator_handling\u001b[0m:\u001b[36mhandle_task_id\u001b[0m:\u001b[36m21\u001b[0m - \u001b[1mWaiting for task 1b92da11-8eaa-44d9-94e6-207b721b9d4e to be done - check number: 57\u001b[0m\n",
      "\u001b[32m2024-12-03 20:43:58.636\u001b[0m | \u001b[1mINFO    \u001b[0m | \u001b[36msdk.orchestrator_handling\u001b[0m:\u001b[36mhandle_task_id\u001b[0m:\u001b[36m21\u001b[0m - \u001b[1mWaiting for task 1b92da11-8eaa-44d9-94e6-207b721b9d4e to be done - check number: 58\u001b[0m\n",
      "\u001b[32m2024-12-03 20:43:59.926\u001b[0m | \u001b[1mINFO    \u001b[0m | \u001b[36msdk.orchestrator_handling\u001b[0m:\u001b[36mhandle_task_id\u001b[0m:\u001b[36m21\u001b[0m - \u001b[1mWaiting for task 1b92da11-8eaa-44d9-94e6-207b721b9d4e to be done - check number: 59\u001b[0m\n",
      "\u001b[32m2024-12-03 20:44:01.215\u001b[0m | \u001b[1mINFO    \u001b[0m | \u001b[36msdk.orchestrator_handling\u001b[0m:\u001b[36mhandle_task_id\u001b[0m:\u001b[36m21\u001b[0m - \u001b[1mWaiting for task 1b92da11-8eaa-44d9-94e6-207b721b9d4e to be done - check number: 60\u001b[0m\n",
      "\u001b[32m2024-12-03 20:44:02.504\u001b[0m | \u001b[1mINFO    \u001b[0m | \u001b[36msdk.orchestrator_handling\u001b[0m:\u001b[36mhandle_task_id\u001b[0m:\u001b[36m21\u001b[0m - \u001b[1mWaiting for task 1b92da11-8eaa-44d9-94e6-207b721b9d4e to be done - check number: 61\u001b[0m\n",
      "\u001b[32m2024-12-03 20:44:03.783\u001b[0m | \u001b[1mINFO    \u001b[0m | \u001b[36msdk.orchestrator_handling\u001b[0m:\u001b[36mhandle_task_id\u001b[0m:\u001b[36m21\u001b[0m - \u001b[1mWaiting for task 1b92da11-8eaa-44d9-94e6-207b721b9d4e to be done - check number: 62\u001b[0m\n",
      "\u001b[32m2024-12-03 20:44:05.053\u001b[0m | \u001b[1mINFO    \u001b[0m | \u001b[36msdk.orchestrator_handling\u001b[0m:\u001b[36mhandle_task_id\u001b[0m:\u001b[36m21\u001b[0m - \u001b[1mWaiting for task 1b92da11-8eaa-44d9-94e6-207b721b9d4e to be done - check number: 63\u001b[0m\n",
      "\u001b[32m2024-12-03 20:44:06.316\u001b[0m | \u001b[1mINFO    \u001b[0m | \u001b[36msdk.orchestrator_handling\u001b[0m:\u001b[36mhandle_task_id\u001b[0m:\u001b[36m21\u001b[0m - \u001b[1mWaiting for task 1b92da11-8eaa-44d9-94e6-207b721b9d4e to be done - check number: 64\u001b[0m\n",
      "\u001b[32m2024-12-03 20:44:07.595\u001b[0m | \u001b[1mINFO    \u001b[0m | \u001b[36msdk.orchestrator_handling\u001b[0m:\u001b[36mhandle_task_id\u001b[0m:\u001b[36m21\u001b[0m - \u001b[1mWaiting for task 1b92da11-8eaa-44d9-94e6-207b721b9d4e to be done - check number: 65\u001b[0m\n",
      "\u001b[32m2024-12-03 20:44:08.839\u001b[0m | \u001b[1mINFO    \u001b[0m | \u001b[36msdk.orchestrator_handling\u001b[0m:\u001b[36mhandle_task_id\u001b[0m:\u001b[36m21\u001b[0m - \u001b[1mWaiting for task 1b92da11-8eaa-44d9-94e6-207b721b9d4e to be done - check number: 66\u001b[0m\n",
      "\u001b[32m2024-12-03 20:44:10.086\u001b[0m | \u001b[1mINFO    \u001b[0m | \u001b[36msdk.orchestrator_handling\u001b[0m:\u001b[36mhandle_task_id\u001b[0m:\u001b[36m21\u001b[0m - \u001b[1mWaiting for task 1b92da11-8eaa-44d9-94e6-207b721b9d4e to be done - check number: 67\u001b[0m\n",
      "\u001b[32m2024-12-03 20:44:11.327\u001b[0m | \u001b[1mINFO    \u001b[0m | \u001b[36msdk.orchestrator_handling\u001b[0m:\u001b[36mhandle_task_id\u001b[0m:\u001b[36m21\u001b[0m - \u001b[1mWaiting for task 1b92da11-8eaa-44d9-94e6-207b721b9d4e to be done - check number: 68\u001b[0m\n",
      "\u001b[32m2024-12-03 20:44:12.572\u001b[0m | \u001b[1mINFO    \u001b[0m | \u001b[36msdk.orchestrator_handling\u001b[0m:\u001b[36mhandle_task_id\u001b[0m:\u001b[36m21\u001b[0m - \u001b[1mWaiting for task 1b92da11-8eaa-44d9-94e6-207b721b9d4e to be done - check number: 69\u001b[0m\n",
      "\u001b[32m2024-12-03 20:44:13.817\u001b[0m | \u001b[1mINFO    \u001b[0m | \u001b[36msdk.orchestrator_handling\u001b[0m:\u001b[36mhandle_task_id\u001b[0m:\u001b[36m21\u001b[0m - \u001b[1mWaiting for task 1b92da11-8eaa-44d9-94e6-207b721b9d4e to be done - check number: 70\u001b[0m\n",
      "\u001b[32m2024-12-03 20:44:15.062\u001b[0m | \u001b[1mINFO    \u001b[0m | \u001b[36msdk.orchestrator_handling\u001b[0m:\u001b[36mhandle_task_id\u001b[0m:\u001b[36m21\u001b[0m - \u001b[1mWaiting for task 1b92da11-8eaa-44d9-94e6-207b721b9d4e to be done - check number: 71\u001b[0m\n",
      "\u001b[32m2024-12-03 20:44:16.309\u001b[0m | \u001b[1mINFO    \u001b[0m | \u001b[36msdk.orchestrator_handling\u001b[0m:\u001b[36mhandle_task_id\u001b[0m:\u001b[36m21\u001b[0m - \u001b[1mWaiting for task 1b92da11-8eaa-44d9-94e6-207b721b9d4e to be done - check number: 72\u001b[0m\n",
      "\u001b[32m2024-12-03 20:44:17.555\u001b[0m | \u001b[1mINFO    \u001b[0m | \u001b[36msdk.orchestrator_handling\u001b[0m:\u001b[36mhandle_task_id\u001b[0m:\u001b[36m21\u001b[0m - \u001b[1mWaiting for task 1b92da11-8eaa-44d9-94e6-207b721b9d4e to be done - check number: 73\u001b[0m\n",
      "\u001b[32m2024-12-03 20:44:18.799\u001b[0m | \u001b[1mINFO    \u001b[0m | \u001b[36msdk.orchestrator_handling\u001b[0m:\u001b[36mhandle_task_id\u001b[0m:\u001b[36m21\u001b[0m - \u001b[1mWaiting for task 1b92da11-8eaa-44d9-94e6-207b721b9d4e to be done - check number: 74\u001b[0m\n",
      "\u001b[32m2024-12-03 20:44:20.048\u001b[0m | \u001b[1mINFO    \u001b[0m | \u001b[36msdk.orchestrator_handling\u001b[0m:\u001b[36mhandle_task_id\u001b[0m:\u001b[36m21\u001b[0m - \u001b[1mWaiting for task 1b92da11-8eaa-44d9-94e6-207b721b9d4e to be done - check number: 75\u001b[0m\n",
      "\u001b[32m2024-12-03 20:44:21.291\u001b[0m | \u001b[1mINFO    \u001b[0m | \u001b[36msdk.orchestrator_handling\u001b[0m:\u001b[36mhandle_task_id\u001b[0m:\u001b[36m21\u001b[0m - \u001b[1mWaiting for task 1b92da11-8eaa-44d9-94e6-207b721b9d4e to be done - check number: 76\u001b[0m\n",
      "\u001b[32m2024-12-03 20:44:22.531\u001b[0m | \u001b[1mINFO    \u001b[0m | \u001b[36msdk.orchestrator_handling\u001b[0m:\u001b[36mhandle_task_id\u001b[0m:\u001b[36m21\u001b[0m - \u001b[1mWaiting for task 1b92da11-8eaa-44d9-94e6-207b721b9d4e to be done - check number: 77\u001b[0m\n",
      "\u001b[32m2024-12-03 20:44:23.774\u001b[0m | \u001b[1mINFO    \u001b[0m | \u001b[36msdk.orchestrator_handling\u001b[0m:\u001b[36mhandle_task_id\u001b[0m:\u001b[36m21\u001b[0m - \u001b[1mWaiting for task 1b92da11-8eaa-44d9-94e6-207b721b9d4e to be done - check number: 78\u001b[0m\n",
      "\u001b[32m2024-12-03 20:44:25.014\u001b[0m | \u001b[1mINFO    \u001b[0m | \u001b[36msdk.orchestrator_handling\u001b[0m:\u001b[36mhandle_task_id\u001b[0m:\u001b[36m21\u001b[0m - \u001b[1mWaiting for task 1b92da11-8eaa-44d9-94e6-207b721b9d4e to be done - check number: 79\u001b[0m\n",
      "\u001b[32m2024-12-03 20:44:26.256\u001b[0m | \u001b[1mINFO    \u001b[0m | \u001b[36msdk.orchestrator_handling\u001b[0m:\u001b[36mhandle_task_id\u001b[0m:\u001b[36m21\u001b[0m - \u001b[1mWaiting for task 1b92da11-8eaa-44d9-94e6-207b721b9d4e to be done - check number: 80\u001b[0m\n",
      "\u001b[32m2024-12-03 20:44:27.502\u001b[0m | \u001b[1mINFO    \u001b[0m | \u001b[36msdk.orchestrator_handling\u001b[0m:\u001b[36mhandle_task_id\u001b[0m:\u001b[36m21\u001b[0m - \u001b[1mWaiting for task 1b92da11-8eaa-44d9-94e6-207b721b9d4e to be done - check number: 81\u001b[0m\n",
      "\u001b[32m2024-12-03 20:44:28.746\u001b[0m | \u001b[1mINFO    \u001b[0m | \u001b[36msdk.orchestrator_handling\u001b[0m:\u001b[36mhandle_task_id\u001b[0m:\u001b[36m21\u001b[0m - \u001b[1mWaiting for task 1b92da11-8eaa-44d9-94e6-207b721b9d4e to be done - check number: 82\u001b[0m\n",
      "\u001b[32m2024-12-03 20:44:29.984\u001b[0m | \u001b[1mINFO    \u001b[0m | \u001b[36msdk.orchestrator_handling\u001b[0m:\u001b[36mhandle_task_id\u001b[0m:\u001b[36m21\u001b[0m - \u001b[1mWaiting for task 1b92da11-8eaa-44d9-94e6-207b721b9d4e to be done - check number: 83\u001b[0m\n",
      "\u001b[32m2024-12-03 20:44:31.226\u001b[0m | \u001b[1mINFO    \u001b[0m | \u001b[36msdk.orchestrator_handling\u001b[0m:\u001b[36mhandle_task_id\u001b[0m:\u001b[36m21\u001b[0m - \u001b[1mWaiting for task 1b92da11-8eaa-44d9-94e6-207b721b9d4e to be done - check number: 84\u001b[0m\n",
      "\u001b[32m2024-12-03 20:44:32.470\u001b[0m | \u001b[1mINFO    \u001b[0m | \u001b[36msdk.orchestrator_handling\u001b[0m:\u001b[36mhandle_task_id\u001b[0m:\u001b[36m21\u001b[0m - \u001b[1mWaiting for task 1b92da11-8eaa-44d9-94e6-207b721b9d4e to be done - check number: 85\u001b[0m\n",
      "\u001b[32m2024-12-03 20:44:33.718\u001b[0m | \u001b[1mINFO    \u001b[0m | \u001b[36msdk.orchestrator_handling\u001b[0m:\u001b[36mhandle_task_id\u001b[0m:\u001b[36m21\u001b[0m - \u001b[1mWaiting for task 1b92da11-8eaa-44d9-94e6-207b721b9d4e to be done - check number: 86\u001b[0m\n",
      "\u001b[32m2024-12-03 20:44:34.964\u001b[0m | \u001b[1mINFO    \u001b[0m | \u001b[36msdk.orchestrator_handling\u001b[0m:\u001b[36mhandle_task_id\u001b[0m:\u001b[36m21\u001b[0m - \u001b[1mWaiting for task 1b92da11-8eaa-44d9-94e6-207b721b9d4e to be done - check number: 87\u001b[0m\n",
      "\u001b[32m2024-12-03 20:44:36.264\u001b[0m | \u001b[1mINFO    \u001b[0m | \u001b[36msdk.orchestrator_handling\u001b[0m:\u001b[36mhandle_task_id\u001b[0m:\u001b[36m21\u001b[0m - \u001b[1mWaiting for task 1b92da11-8eaa-44d9-94e6-207b721b9d4e to be done - check number: 88\u001b[0m\n",
      "\u001b[32m2024-12-03 20:44:37.514\u001b[0m | \u001b[1mINFO    \u001b[0m | \u001b[36msdk.orchestrator_handling\u001b[0m:\u001b[36mhandle_task_id\u001b[0m:\u001b[36m21\u001b[0m - \u001b[1mWaiting for task 1b92da11-8eaa-44d9-94e6-207b721b9d4e to be done - check number: 89\u001b[0m\n",
      "\u001b[32m2024-12-03 20:44:38.762\u001b[0m | \u001b[1mINFO    \u001b[0m | \u001b[36msdk.orchestrator_handling\u001b[0m:\u001b[36mhandle_task_id\u001b[0m:\u001b[36m21\u001b[0m - \u001b[1mWaiting for task 1b92da11-8eaa-44d9-94e6-207b721b9d4e to be done - check number: 90\u001b[0m\n",
      "\u001b[32m2024-12-03 20:44:40.004\u001b[0m | \u001b[1mINFO    \u001b[0m | \u001b[36msdk.orchestrator_handling\u001b[0m:\u001b[36mhandle_task_id\u001b[0m:\u001b[36m21\u001b[0m - \u001b[1mWaiting for task 1b92da11-8eaa-44d9-94e6-207b721b9d4e to be done - check number: 91\u001b[0m\n",
      "\u001b[32m2024-12-03 20:44:41.247\u001b[0m | \u001b[1mINFO    \u001b[0m | \u001b[36msdk.orchestrator_handling\u001b[0m:\u001b[36mhandle_task_id\u001b[0m:\u001b[36m21\u001b[0m - \u001b[1mWaiting for task 1b92da11-8eaa-44d9-94e6-207b721b9d4e to be done - check number: 92\u001b[0m\n",
      "\u001b[32m2024-12-03 20:44:42.488\u001b[0m | \u001b[1mINFO    \u001b[0m | \u001b[36msdk.orchestrator_handling\u001b[0m:\u001b[36mhandle_task_id\u001b[0m:\u001b[36m21\u001b[0m - \u001b[1mWaiting for task 1b92da11-8eaa-44d9-94e6-207b721b9d4e to be done - check number: 93\u001b[0m\n",
      "\u001b[32m2024-12-03 20:44:43.737\u001b[0m | \u001b[1mINFO    \u001b[0m | \u001b[36msdk.orchestrator_handling\u001b[0m:\u001b[36mhandle_task_id\u001b[0m:\u001b[36m21\u001b[0m - \u001b[1mWaiting for task 1b92da11-8eaa-44d9-94e6-207b721b9d4e to be done - check number: 94\u001b[0m\n",
      "\u001b[32m2024-12-03 20:44:44.987\u001b[0m | \u001b[1mINFO    \u001b[0m | \u001b[36msdk.orchestrator_handling\u001b[0m:\u001b[36mhandle_task_id\u001b[0m:\u001b[36m21\u001b[0m - \u001b[1mWaiting for task 1b92da11-8eaa-44d9-94e6-207b721b9d4e to be done - check number: 95\u001b[0m\n",
      "\u001b[32m2024-12-03 20:44:46.231\u001b[0m | \u001b[1mINFO    \u001b[0m | \u001b[36msdk.orchestrator_handling\u001b[0m:\u001b[36mhandle_task_id\u001b[0m:\u001b[36m21\u001b[0m - \u001b[1mWaiting for task 1b92da11-8eaa-44d9-94e6-207b721b9d4e to be done - check number: 96\u001b[0m\n",
      "\u001b[32m2024-12-03 20:44:47.476\u001b[0m | \u001b[1mINFO    \u001b[0m | \u001b[36msdk.orchestrator_handling\u001b[0m:\u001b[36mhandle_task_id\u001b[0m:\u001b[36m21\u001b[0m - \u001b[1mWaiting for task 1b92da11-8eaa-44d9-94e6-207b721b9d4e to be done - check number: 97\u001b[0m\n",
      "\u001b[32m2024-12-03 20:44:48.727\u001b[0m | \u001b[1mINFO    \u001b[0m | \u001b[36msdk.orchestrator_handling\u001b[0m:\u001b[36mhandle_task_id\u001b[0m:\u001b[36m21\u001b[0m - \u001b[1mWaiting for task 1b92da11-8eaa-44d9-94e6-207b721b9d4e to be done - check number: 98\u001b[0m\n",
      "\u001b[32m2024-12-03 20:44:49.987\u001b[0m | \u001b[1mINFO    \u001b[0m | \u001b[36msdk.orchestrator_handling\u001b[0m:\u001b[36mhandle_task_id\u001b[0m:\u001b[36m21\u001b[0m - \u001b[1mWaiting for task 1b92da11-8eaa-44d9-94e6-207b721b9d4e to be done - check number: 99\u001b[0m\n",
      "\u001b[32m2024-12-03 20:44:51.228\u001b[0m | \u001b[1mINFO    \u001b[0m | \u001b[36msdk.orchestrator_handling\u001b[0m:\u001b[36mhandle_task_id\u001b[0m:\u001b[36m21\u001b[0m - \u001b[1mWaiting for task 1b92da11-8eaa-44d9-94e6-207b721b9d4e to be done - check number: 100\u001b[0m\n",
      "\u001b[32m2024-12-03 20:44:52.472\u001b[0m | \u001b[1mINFO    \u001b[0m | \u001b[36msdk.orchestrator_handling\u001b[0m:\u001b[36mhandle_task_id\u001b[0m:\u001b[36m21\u001b[0m - \u001b[1mWaiting for task 1b92da11-8eaa-44d9-94e6-207b721b9d4e to be done - check number: 101\u001b[0m\n",
      "\u001b[32m2024-12-03 20:44:53.714\u001b[0m | \u001b[1mINFO    \u001b[0m | \u001b[36msdk.orchestrator_handling\u001b[0m:\u001b[36mhandle_task_id\u001b[0m:\u001b[36m21\u001b[0m - \u001b[1mWaiting for task 1b92da11-8eaa-44d9-94e6-207b721b9d4e to be done - check number: 102\u001b[0m\n",
      "\u001b[32m2024-12-03 20:44:54.960\u001b[0m | \u001b[1mINFO    \u001b[0m | \u001b[36msdk.orchestrator_handling\u001b[0m:\u001b[36mhandle_task_id\u001b[0m:\u001b[36m21\u001b[0m - \u001b[1mWaiting for task 1b92da11-8eaa-44d9-94e6-207b721b9d4e to be done - check number: 103\u001b[0m\n",
      "\u001b[32m2024-12-03 20:44:56.205\u001b[0m | \u001b[1mINFO    \u001b[0m | \u001b[36msdk.orchestrator_handling\u001b[0m:\u001b[36mhandle_task_id\u001b[0m:\u001b[36m21\u001b[0m - \u001b[1mWaiting for task 1b92da11-8eaa-44d9-94e6-207b721b9d4e to be done - check number: 104\u001b[0m\n",
      "\u001b[32m2024-12-03 20:44:57.449\u001b[0m | \u001b[1mINFO    \u001b[0m | \u001b[36msdk.orchestrator_handling\u001b[0m:\u001b[36mhandle_task_id\u001b[0m:\u001b[36m21\u001b[0m - \u001b[1mWaiting for task 1b92da11-8eaa-44d9-94e6-207b721b9d4e to be done - check number: 105\u001b[0m\n",
      "\u001b[32m2024-12-03 20:44:58.689\u001b[0m | \u001b[1mINFO    \u001b[0m | \u001b[36msdk.orchestrator_handling\u001b[0m:\u001b[36mhandle_task_id\u001b[0m:\u001b[36m21\u001b[0m - \u001b[1mWaiting for task 1b92da11-8eaa-44d9-94e6-207b721b9d4e to be done - check number: 106\u001b[0m\n",
      "\u001b[32m2024-12-03 20:44:59.934\u001b[0m | \u001b[1mINFO    \u001b[0m | \u001b[36msdk.orchestrator_handling\u001b[0m:\u001b[36mhandle_task_id\u001b[0m:\u001b[36m21\u001b[0m - \u001b[1mWaiting for task 1b92da11-8eaa-44d9-94e6-207b721b9d4e to be done - check number: 107\u001b[0m\n",
      "\u001b[32m2024-12-03 20:45:01.178\u001b[0m | \u001b[1mINFO    \u001b[0m | \u001b[36msdk.orchestrator_handling\u001b[0m:\u001b[36mhandle_task_id\u001b[0m:\u001b[36m21\u001b[0m - \u001b[1mWaiting for task 1b92da11-8eaa-44d9-94e6-207b721b9d4e to be done - check number: 108\u001b[0m\n",
      "\u001b[32m2024-12-03 20:45:02.424\u001b[0m | \u001b[1mINFO    \u001b[0m | \u001b[36msdk.orchestrator_handling\u001b[0m:\u001b[36mhandle_task_id\u001b[0m:\u001b[36m21\u001b[0m - \u001b[1mWaiting for task 1b92da11-8eaa-44d9-94e6-207b721b9d4e to be done - check number: 109\u001b[0m\n",
      "\u001b[32m2024-12-03 20:45:03.674\u001b[0m | \u001b[1mINFO    \u001b[0m | \u001b[36msdk.orchestrator_handling\u001b[0m:\u001b[36mhandle_task_id\u001b[0m:\u001b[36m21\u001b[0m - \u001b[1mWaiting for task 1b92da11-8eaa-44d9-94e6-207b721b9d4e to be done - check number: 110\u001b[0m\n",
      "\u001b[32m2024-12-03 20:45:04.917\u001b[0m | \u001b[1mINFO    \u001b[0m | \u001b[36msdk.orchestrator_handling\u001b[0m:\u001b[36mhandle_task_id\u001b[0m:\u001b[36m21\u001b[0m - \u001b[1mWaiting for task 1b92da11-8eaa-44d9-94e6-207b721b9d4e to be done - check number: 111\u001b[0m\n",
      "\u001b[32m2024-12-03 20:45:06.160\u001b[0m | \u001b[1mINFO    \u001b[0m | \u001b[36msdk.orchestrator_handling\u001b[0m:\u001b[36mhandle_task_id\u001b[0m:\u001b[36m21\u001b[0m - \u001b[1mWaiting for task 1b92da11-8eaa-44d9-94e6-207b721b9d4e to be done - check number: 112\u001b[0m\n",
      "\u001b[32m2024-12-03 20:45:07.403\u001b[0m | \u001b[1mINFO    \u001b[0m | \u001b[36msdk.orchestrator_handling\u001b[0m:\u001b[36mhandle_task_id\u001b[0m:\u001b[36m21\u001b[0m - \u001b[1mWaiting for task 1b92da11-8eaa-44d9-94e6-207b721b9d4e to be done - check number: 113\u001b[0m\n",
      "\u001b[32m2024-12-03 20:45:08.649\u001b[0m | \u001b[1mINFO    \u001b[0m | \u001b[36msdk.orchestrator_handling\u001b[0m:\u001b[36mhandle_task_id\u001b[0m:\u001b[36m21\u001b[0m - \u001b[1mWaiting for task 1b92da11-8eaa-44d9-94e6-207b721b9d4e to be done - check number: 114\u001b[0m\n",
      "\u001b[32m2024-12-03 20:45:09.892\u001b[0m | \u001b[1mINFO    \u001b[0m | \u001b[36msdk.orchestrator_handling\u001b[0m:\u001b[36mhandle_task_id\u001b[0m:\u001b[36m21\u001b[0m - \u001b[1mWaiting for task 1b92da11-8eaa-44d9-94e6-207b721b9d4e to be done - check number: 115\u001b[0m\n",
      "\u001b[32m2024-12-03 20:45:11.132\u001b[0m | \u001b[1mINFO    \u001b[0m | \u001b[36msdk.orchestrator_handling\u001b[0m:\u001b[36mhandle_task_id\u001b[0m:\u001b[36m21\u001b[0m - \u001b[1mWaiting for task 1b92da11-8eaa-44d9-94e6-207b721b9d4e to be done - check number: 116\u001b[0m\n",
      "\u001b[32m2024-12-03 20:45:12.372\u001b[0m | \u001b[1mINFO    \u001b[0m | \u001b[36msdk.orchestrator_handling\u001b[0m:\u001b[36mhandle_task_id\u001b[0m:\u001b[36m21\u001b[0m - \u001b[1mWaiting for task 1b92da11-8eaa-44d9-94e6-207b721b9d4e to be done - check number: 117\u001b[0m\n",
      "\u001b[32m2024-12-03 20:45:13.613\u001b[0m | \u001b[1mINFO    \u001b[0m | \u001b[36msdk.orchestrator_handling\u001b[0m:\u001b[36mhandle_task_id\u001b[0m:\u001b[36m21\u001b[0m - \u001b[1mWaiting for task 1b92da11-8eaa-44d9-94e6-207b721b9d4e to be done - check number: 118\u001b[0m\n",
      "\u001b[32m2024-12-03 20:45:14.858\u001b[0m | \u001b[1mINFO    \u001b[0m | \u001b[36msdk.orchestrator_handling\u001b[0m:\u001b[36mhandle_task_id\u001b[0m:\u001b[36m21\u001b[0m - \u001b[1mWaiting for task 1b92da11-8eaa-44d9-94e6-207b721b9d4e to be done - check number: 119\u001b[0m\n",
      "\u001b[32m2024-12-03 20:45:16.102\u001b[0m | \u001b[1mINFO    \u001b[0m | \u001b[36msdk.orchestrator_handling\u001b[0m:\u001b[36mhandle_task_id\u001b[0m:\u001b[36m21\u001b[0m - \u001b[1mWaiting for task 1b92da11-8eaa-44d9-94e6-207b721b9d4e to be done - check number: 120\u001b[0m\n",
      "\u001b[32m2024-12-03 20:45:17.344\u001b[0m | \u001b[1mINFO    \u001b[0m | \u001b[36msdk.orchestrator_handling\u001b[0m:\u001b[36mhandle_task_id\u001b[0m:\u001b[36m21\u001b[0m - \u001b[1mWaiting for task 1b92da11-8eaa-44d9-94e6-207b721b9d4e to be done - check number: 121\u001b[0m\n",
      "\u001b[32m2024-12-03 20:45:18.589\u001b[0m | \u001b[1mINFO    \u001b[0m | \u001b[36msdk.orchestrator_handling\u001b[0m:\u001b[36mhandle_task_id\u001b[0m:\u001b[36m21\u001b[0m - \u001b[1mWaiting for task 1b92da11-8eaa-44d9-94e6-207b721b9d4e to be done - check number: 122\u001b[0m\n",
      "\u001b[32m2024-12-03 20:45:19.836\u001b[0m | \u001b[1mINFO    \u001b[0m | \u001b[36msdk.orchestrator_handling\u001b[0m:\u001b[36mhandle_task_id\u001b[0m:\u001b[36m21\u001b[0m - \u001b[1mWaiting for task 1b92da11-8eaa-44d9-94e6-207b721b9d4e to be done - check number: 123\u001b[0m\n",
      "\u001b[32m2024-12-03 20:45:21.078\u001b[0m | \u001b[1mINFO    \u001b[0m | \u001b[36msdk.orchestrator_handling\u001b[0m:\u001b[36mhandle_task_id\u001b[0m:\u001b[36m21\u001b[0m - \u001b[1mWaiting for task 1b92da11-8eaa-44d9-94e6-207b721b9d4e to be done - check number: 124\u001b[0m\n",
      "\u001b[32m2024-12-03 20:45:22.322\u001b[0m | \u001b[1mINFO    \u001b[0m | \u001b[36msdk.orchestrator_handling\u001b[0m:\u001b[36mhandle_task_id\u001b[0m:\u001b[36m21\u001b[0m - \u001b[1mWaiting for task 1b92da11-8eaa-44d9-94e6-207b721b9d4e to be done - check number: 125\u001b[0m\n",
      "\u001b[32m2024-12-03 20:45:23.570\u001b[0m | \u001b[1mINFO    \u001b[0m | \u001b[36msdk.orchestrator_handling\u001b[0m:\u001b[36mhandle_task_id\u001b[0m:\u001b[36m21\u001b[0m - \u001b[1mWaiting for task 1b92da11-8eaa-44d9-94e6-207b721b9d4e to be done - check number: 126\u001b[0m\n",
      "\u001b[32m2024-12-03 20:45:24.816\u001b[0m | \u001b[1mINFO    \u001b[0m | \u001b[36msdk.orchestrator_handling\u001b[0m:\u001b[36mhandle_task_id\u001b[0m:\u001b[36m21\u001b[0m - \u001b[1mWaiting for task 1b92da11-8eaa-44d9-94e6-207b721b9d4e to be done - check number: 127\u001b[0m\n"
     ]
    },
    {
     "ename": "ReadTimeout",
     "evalue": "",
     "output_type": "error",
     "traceback": [
      "\u001b[0;31m---------------------------------------------------------------------------\u001b[0m",
      "\u001b[0;31mReadTimeout\u001b[0m                               Traceback (most recent call last)",
      "File \u001b[0;32m~/Documents/tau-workers/venv/lib/python3.10/site-packages/httpx/_transports/default.py:69\u001b[0m, in \u001b[0;36mmap_httpcore_exceptions\u001b[0;34m()\u001b[0m\n\u001b[1;32m     68\u001b[0m \u001b[38;5;28;01mtry\u001b[39;00m:\n\u001b[0;32m---> 69\u001b[0m     \u001b[38;5;28;01myield\u001b[39;00m\n\u001b[1;32m     70\u001b[0m \u001b[38;5;28;01mexcept\u001b[39;00m \u001b[38;5;167;01mException\u001b[39;00m \u001b[38;5;28;01mas\u001b[39;00m exc:\n",
      "File \u001b[0;32m~/Documents/tau-workers/venv/lib/python3.10/site-packages/httpx/_transports/default.py:373\u001b[0m, in \u001b[0;36mAsyncHTTPTransport.handle_async_request\u001b[0;34m(self, request)\u001b[0m\n\u001b[1;32m    372\u001b[0m \u001b[38;5;28;01mwith\u001b[39;00m map_httpcore_exceptions():\n\u001b[0;32m--> 373\u001b[0m     resp \u001b[38;5;241m=\u001b[39m \u001b[38;5;28;01mawait\u001b[39;00m \u001b[38;5;28mself\u001b[39m\u001b[38;5;241m.\u001b[39m_pool\u001b[38;5;241m.\u001b[39mhandle_async_request(req)\n\u001b[1;32m    375\u001b[0m \u001b[38;5;28;01massert\u001b[39;00m \u001b[38;5;28misinstance\u001b[39m(resp\u001b[38;5;241m.\u001b[39mstream, typing\u001b[38;5;241m.\u001b[39mAsyncIterable)\n",
      "File \u001b[0;32m~/Documents/tau-workers/venv/lib/python3.10/site-packages/httpcore/_async/connection_pool.py:216\u001b[0m, in \u001b[0;36mAsyncConnectionPool.handle_async_request\u001b[0;34m(self, request)\u001b[0m\n\u001b[1;32m    215\u001b[0m     \u001b[38;5;28;01mawait\u001b[39;00m \u001b[38;5;28mself\u001b[39m\u001b[38;5;241m.\u001b[39m_close_connections(closing)\n\u001b[0;32m--> 216\u001b[0m     \u001b[38;5;28;01mraise\u001b[39;00m exc \u001b[38;5;28;01mfrom\u001b[39;00m \u001b[38;5;28;01mNone\u001b[39;00m\n\u001b[1;32m    218\u001b[0m \u001b[38;5;66;03m# Return the response. Note that in this case we still have to manage\u001b[39;00m\n\u001b[1;32m    219\u001b[0m \u001b[38;5;66;03m# the point at which the response is closed.\u001b[39;00m\n",
      "File \u001b[0;32m~/Documents/tau-workers/venv/lib/python3.10/site-packages/httpcore/_async/connection_pool.py:196\u001b[0m, in \u001b[0;36mAsyncConnectionPool.handle_async_request\u001b[0;34m(self, request)\u001b[0m\n\u001b[1;32m    194\u001b[0m \u001b[38;5;28;01mtry\u001b[39;00m:\n\u001b[1;32m    195\u001b[0m     \u001b[38;5;66;03m# Send the request on the assigned connection.\u001b[39;00m\n\u001b[0;32m--> 196\u001b[0m     response \u001b[38;5;241m=\u001b[39m \u001b[38;5;28;01mawait\u001b[39;00m connection\u001b[38;5;241m.\u001b[39mhandle_async_request(\n\u001b[1;32m    197\u001b[0m         pool_request\u001b[38;5;241m.\u001b[39mrequest\n\u001b[1;32m    198\u001b[0m     )\n\u001b[1;32m    199\u001b[0m \u001b[38;5;28;01mexcept\u001b[39;00m ConnectionNotAvailable:\n\u001b[1;32m    200\u001b[0m     \u001b[38;5;66;03m# In some cases a connection may initially be available to\u001b[39;00m\n\u001b[1;32m    201\u001b[0m     \u001b[38;5;66;03m# handle a request, but then become unavailable.\u001b[39;00m\n\u001b[1;32m    202\u001b[0m     \u001b[38;5;66;03m#\u001b[39;00m\n\u001b[1;32m    203\u001b[0m     \u001b[38;5;66;03m# In this case we clear the connection and try again.\u001b[39;00m\n",
      "File \u001b[0;32m~/Documents/tau-workers/venv/lib/python3.10/site-packages/httpcore/_async/connection.py:101\u001b[0m, in \u001b[0;36mAsyncHTTPConnection.handle_async_request\u001b[0;34m(self, request)\u001b[0m\n\u001b[1;32m     99\u001b[0m     \u001b[38;5;28;01mraise\u001b[39;00m exc\n\u001b[0;32m--> 101\u001b[0m \u001b[38;5;28;01mreturn\u001b[39;00m \u001b[38;5;28;01mawait\u001b[39;00m \u001b[38;5;28mself\u001b[39m\u001b[38;5;241m.\u001b[39m_connection\u001b[38;5;241m.\u001b[39mhandle_async_request(request)\n",
      "File \u001b[0;32m~/Documents/tau-workers/venv/lib/python3.10/site-packages/httpcore/_async/http11.py:143\u001b[0m, in \u001b[0;36mAsyncHTTP11Connection.handle_async_request\u001b[0;34m(self, request)\u001b[0m\n\u001b[1;32m    142\u001b[0m         \u001b[38;5;28;01mawait\u001b[39;00m \u001b[38;5;28mself\u001b[39m\u001b[38;5;241m.\u001b[39m_response_closed()\n\u001b[0;32m--> 143\u001b[0m \u001b[38;5;28;01mraise\u001b[39;00m exc\n",
      "File \u001b[0;32m~/Documents/tau-workers/venv/lib/python3.10/site-packages/httpcore/_async/http11.py:113\u001b[0m, in \u001b[0;36mAsyncHTTP11Connection.handle_async_request\u001b[0;34m(self, request)\u001b[0m\n\u001b[1;32m    104\u001b[0m \u001b[38;5;28;01masync\u001b[39;00m \u001b[38;5;28;01mwith\u001b[39;00m Trace(\n\u001b[1;32m    105\u001b[0m     \u001b[38;5;124m\"\u001b[39m\u001b[38;5;124mreceive_response_headers\u001b[39m\u001b[38;5;124m\"\u001b[39m, logger, request, kwargs\n\u001b[1;32m    106\u001b[0m ) \u001b[38;5;28;01mas\u001b[39;00m trace:\n\u001b[1;32m    107\u001b[0m     (\n\u001b[1;32m    108\u001b[0m         http_version,\n\u001b[1;32m    109\u001b[0m         status,\n\u001b[1;32m    110\u001b[0m         reason_phrase,\n\u001b[1;32m    111\u001b[0m         headers,\n\u001b[1;32m    112\u001b[0m         trailing_data,\n\u001b[0;32m--> 113\u001b[0m     ) \u001b[38;5;241m=\u001b[39m \u001b[38;5;28;01mawait\u001b[39;00m \u001b[38;5;28mself\u001b[39m\u001b[38;5;241m.\u001b[39m_receive_response_headers(\u001b[38;5;241m*\u001b[39m\u001b[38;5;241m*\u001b[39mkwargs)\n\u001b[1;32m    114\u001b[0m     trace\u001b[38;5;241m.\u001b[39mreturn_value \u001b[38;5;241m=\u001b[39m (\n\u001b[1;32m    115\u001b[0m         http_version,\n\u001b[1;32m    116\u001b[0m         status,\n\u001b[1;32m    117\u001b[0m         reason_phrase,\n\u001b[1;32m    118\u001b[0m         headers,\n\u001b[1;32m    119\u001b[0m     )\n",
      "File \u001b[0;32m~/Documents/tau-workers/venv/lib/python3.10/site-packages/httpcore/_async/http11.py:186\u001b[0m, in \u001b[0;36mAsyncHTTP11Connection._receive_response_headers\u001b[0;34m(self, request)\u001b[0m\n\u001b[1;32m    185\u001b[0m \u001b[38;5;28;01mwhile\u001b[39;00m \u001b[38;5;28;01mTrue\u001b[39;00m:\n\u001b[0;32m--> 186\u001b[0m     event \u001b[38;5;241m=\u001b[39m \u001b[38;5;28;01mawait\u001b[39;00m \u001b[38;5;28mself\u001b[39m\u001b[38;5;241m.\u001b[39m_receive_event(timeout\u001b[38;5;241m=\u001b[39mtimeout)\n\u001b[1;32m    187\u001b[0m     \u001b[38;5;28;01mif\u001b[39;00m \u001b[38;5;28misinstance\u001b[39m(event, h11\u001b[38;5;241m.\u001b[39mResponse):\n",
      "File \u001b[0;32m~/Documents/tau-workers/venv/lib/python3.10/site-packages/httpcore/_async/http11.py:224\u001b[0m, in \u001b[0;36mAsyncHTTP11Connection._receive_event\u001b[0;34m(self, timeout)\u001b[0m\n\u001b[1;32m    223\u001b[0m \u001b[38;5;28;01mif\u001b[39;00m event \u001b[38;5;129;01mis\u001b[39;00m h11\u001b[38;5;241m.\u001b[39mNEED_DATA:\n\u001b[0;32m--> 224\u001b[0m     data \u001b[38;5;241m=\u001b[39m \u001b[38;5;28;01mawait\u001b[39;00m \u001b[38;5;28mself\u001b[39m\u001b[38;5;241m.\u001b[39m_network_stream\u001b[38;5;241m.\u001b[39mread(\n\u001b[1;32m    225\u001b[0m         \u001b[38;5;28mself\u001b[39m\u001b[38;5;241m.\u001b[39mREAD_NUM_BYTES, timeout\u001b[38;5;241m=\u001b[39mtimeout\n\u001b[1;32m    226\u001b[0m     )\n\u001b[1;32m    228\u001b[0m     \u001b[38;5;66;03m# If we feed this case through h11 we'll raise an exception like:\u001b[39;00m\n\u001b[1;32m    229\u001b[0m     \u001b[38;5;66;03m#\u001b[39;00m\n\u001b[1;32m    230\u001b[0m     \u001b[38;5;66;03m#     httpcore.RemoteProtocolError: can't handle event type\u001b[39;00m\n\u001b[0;32m   (...)\u001b[0m\n\u001b[1;32m    234\u001b[0m     \u001b[38;5;66;03m# perspective. Instead we handle this case distinctly and treat\u001b[39;00m\n\u001b[1;32m    235\u001b[0m     \u001b[38;5;66;03m# it as a ConnectError.\u001b[39;00m\n",
      "File \u001b[0;32m~/Documents/tau-workers/venv/lib/python3.10/site-packages/httpcore/_backends/anyio.py:32\u001b[0m, in \u001b[0;36mAnyIOStream.read\u001b[0;34m(self, max_bytes, timeout)\u001b[0m\n\u001b[1;32m     26\u001b[0m exc_map \u001b[38;5;241m=\u001b[39m {\n\u001b[1;32m     27\u001b[0m     \u001b[38;5;167;01mTimeoutError\u001b[39;00m: ReadTimeout,\n\u001b[1;32m     28\u001b[0m     anyio\u001b[38;5;241m.\u001b[39mBrokenResourceError: ReadError,\n\u001b[1;32m     29\u001b[0m     anyio\u001b[38;5;241m.\u001b[39mClosedResourceError: ReadError,\n\u001b[1;32m     30\u001b[0m     anyio\u001b[38;5;241m.\u001b[39mEndOfStream: ReadError,\n\u001b[1;32m     31\u001b[0m }\n\u001b[0;32m---> 32\u001b[0m \u001b[38;5;28;01mwith\u001b[39;00m map_exceptions(exc_map):\n\u001b[1;32m     33\u001b[0m     \u001b[38;5;28;01mwith\u001b[39;00m anyio\u001b[38;5;241m.\u001b[39mfail_after(timeout):\n",
      "File \u001b[0;32m~/.pyenv/versions/3.10.13/lib/python3.10/contextlib.py:153\u001b[0m, in \u001b[0;36m_GeneratorContextManager.__exit__\u001b[0;34m(self, typ, value, traceback)\u001b[0m\n\u001b[1;32m    152\u001b[0m \u001b[38;5;28;01mtry\u001b[39;00m:\n\u001b[0;32m--> 153\u001b[0m     \u001b[38;5;28;43mself\u001b[39;49m\u001b[38;5;241;43m.\u001b[39;49m\u001b[43mgen\u001b[49m\u001b[38;5;241;43m.\u001b[39;49m\u001b[43mthrow\u001b[49m\u001b[43m(\u001b[49m\u001b[43mtyp\u001b[49m\u001b[43m,\u001b[49m\u001b[43m \u001b[49m\u001b[43mvalue\u001b[49m\u001b[43m,\u001b[49m\u001b[43m \u001b[49m\u001b[43mtraceback\u001b[49m\u001b[43m)\u001b[49m\n\u001b[1;32m    154\u001b[0m \u001b[38;5;28;01mexcept\u001b[39;00m \u001b[38;5;167;01mStopIteration\u001b[39;00m \u001b[38;5;28;01mas\u001b[39;00m exc:\n\u001b[1;32m    155\u001b[0m     \u001b[38;5;66;03m# Suppress StopIteration *unless* it's the same exception that\u001b[39;00m\n\u001b[1;32m    156\u001b[0m     \u001b[38;5;66;03m# was passed to throw().  This prevents a StopIteration\u001b[39;00m\n\u001b[1;32m    157\u001b[0m     \u001b[38;5;66;03m# raised inside the \"with\" statement from being suppressed.\u001b[39;00m\n",
      "File \u001b[0;32m~/Documents/tau-workers/venv/lib/python3.10/site-packages/httpcore/_exceptions.py:14\u001b[0m, in \u001b[0;36mmap_exceptions\u001b[0;34m(map)\u001b[0m\n\u001b[1;32m     13\u001b[0m     \u001b[38;5;28;01mif\u001b[39;00m \u001b[38;5;28misinstance\u001b[39m(exc, from_exc):\n\u001b[0;32m---> 14\u001b[0m         \u001b[38;5;28;01mraise\u001b[39;00m to_exc(exc) \u001b[38;5;28;01mfrom\u001b[39;00m \u001b[38;5;21;01mexc\u001b[39;00m\n\u001b[1;32m     15\u001b[0m \u001b[38;5;28;01mraise\u001b[39;00m\n",
      "\u001b[0;31mReadTimeout\u001b[0m: ",
      "\nThe above exception was the direct cause of the following exception:\n",
      "\u001b[0;31mReadTimeout\u001b[0m                               Traceback (most recent call last)",
      "Cell \u001b[0;32mIn[6], line 10\u001b[0m\n\u001b[1;32m      6\u001b[0m payload[\u001b[38;5;124m\"\u001b[39m\u001b[38;5;124mmodel\u001b[39m\u001b[38;5;124m\"\u001b[39m] \u001b[38;5;241m=\u001b[39m \u001b[38;5;124m\"\u001b[39m\u001b[38;5;124msophosympatheia/Rogue-Rose-103b-v0.2/tree/exl2-3.2bpw\u001b[39m\u001b[38;5;124m\"\u001b[39m\n\u001b[1;32m      7\u001b[0m \u001b[38;5;66;03m# messages = await get_real_response(payload=payload, chat=False, llm_url=\"http://83.143.115.20:8000\")\u001b[39;00m\n\u001b[1;32m      8\u001b[0m \u001b[38;5;66;03m# await sdk.check_result(task=CHAT_ROGUE_ROSE_103B, payload=payload, orchestrator_url=\"http://83.143.115.20:6920/\", miner_response=messages[:-1])\u001b[39;00m\n\u001b[0;32m---> 10\u001b[0m \u001b[38;5;28;01mawait\u001b[39;00m sdk\u001b[38;5;241m.\u001b[39mcheck_result(task\u001b[38;5;241m=\u001b[39mCHAT_ROGUE_ROSE_103B, payload\u001b[38;5;241m=\u001b[39mpayload, orchestrator_url\u001b[38;5;241m=\u001b[39m\u001b[38;5;124m\"\u001b[39m\u001b[38;5;124mhttp://83.143.115.20:6920/\u001b[39m\u001b[38;5;124m\"\u001b[39m, miner_response\u001b[38;5;241m=\u001b[39m[])\n",
      "File \u001b[0;32m~/Documents/tau-workers/sdk/sdk.py:116\u001b[0m, in \u001b[0;36mcheck_result\u001b[0;34m(task, payload, miner_response, response_time, orchestrator_url)\u001b[0m\n\u001b[1;32m    114\u001b[0m     \u001b[38;5;28;01mawait\u001b[39;00m handle_none_task_id(response)\n\u001b[1;32m    115\u001b[0m \u001b[38;5;28;01melse\u001b[39;00m:\n\u001b[0;32m--> 116\u001b[0m     task_result \u001b[38;5;241m=\u001b[39m \u001b[38;5;28;01mawait\u001b[39;00m handle_task_id(response, task_id, orchestrator_url)\n\u001b[1;32m    117\u001b[0m     logger\u001b[38;5;241m.\u001b[39minfo(\u001b[38;5;124mf\u001b[39m\u001b[38;5;124m\"\u001b[39m\u001b[38;5;124mTask \u001b[39m\u001b[38;5;132;01m{\u001b[39;00mtask_id\u001b[38;5;132;01m}\u001b[39;00m\u001b[38;5;124m is done: \u001b[39m\u001b[38;5;132;01m{\u001b[39;00mtask_result\u001b[38;5;132;01m}\u001b[39;00m\u001b[38;5;124m\"\u001b[39m)\n\u001b[1;32m    118\u001b[0m     \u001b[38;5;28;01mreturn\u001b[39;00m task_result\n",
      "File \u001b[0;32m~/Documents/tau-workers/sdk/orchestrator_handling.py:23\u001b[0m, in \u001b[0;36mhandle_task_id\u001b[0;34m(response, task_id, url)\u001b[0m\n\u001b[1;32m     21\u001b[0m logger\u001b[38;5;241m.\u001b[39minfo(\u001b[38;5;124mf\u001b[39m\u001b[38;5;124m\"\u001b[39m\u001b[38;5;124mWaiting for task \u001b[39m\u001b[38;5;132;01m{\u001b[39;00mtask_id\u001b[38;5;132;01m}\u001b[39;00m\u001b[38;5;124m to be done - check number: \u001b[39m\u001b[38;5;132;01m{\u001b[39;00mcheck\u001b[38;5;132;01m}\u001b[39;00m\u001b[38;5;124m\"\u001b[39m)\n\u001b[1;32m     22\u001b[0m \u001b[38;5;28;01mawait\u001b[39;00m asyncio\u001b[38;5;241m.\u001b[39msleep(\u001b[38;5;241m1\u001b[39m)\n\u001b[0;32m---> 23\u001b[0m task_response \u001b[38;5;241m=\u001b[39m \u001b[38;5;28;01mawait\u001b[39;00m client\u001b[38;5;241m.\u001b[39mget(url\u001b[38;5;241m.\u001b[39mrstrip(\u001b[38;5;124m\"\u001b[39m\u001b[38;5;124m/\u001b[39m\u001b[38;5;124m\"\u001b[39m) \u001b[38;5;241m+\u001b[39m \u001b[38;5;124mf\u001b[39m\u001b[38;5;124m\"\u001b[39m\u001b[38;5;124m/check-task/\u001b[39m\u001b[38;5;132;01m{\u001b[39;00mtask_id\u001b[38;5;132;01m}\u001b[39;00m\u001b[38;5;124m\"\u001b[39m)\n\u001b[1;32m     24\u001b[0m task_response\u001b[38;5;241m.\u001b[39mraise_for_status()\n\u001b[1;32m     25\u001b[0m task_response_json \u001b[38;5;241m=\u001b[39m task_response\u001b[38;5;241m.\u001b[39mjson()\n",
      "File \u001b[0;32m~/Documents/tau-workers/venv/lib/python3.10/site-packages/httpx/_client.py:1801\u001b[0m, in \u001b[0;36mAsyncClient.get\u001b[0;34m(self, url, params, headers, cookies, auth, follow_redirects, timeout, extensions)\u001b[0m\n\u001b[1;32m   1784\u001b[0m \u001b[38;5;28;01masync\u001b[39;00m \u001b[38;5;28;01mdef\u001b[39;00m \u001b[38;5;21mget\u001b[39m(\n\u001b[1;32m   1785\u001b[0m     \u001b[38;5;28mself\u001b[39m,\n\u001b[1;32m   1786\u001b[0m     url: URLTypes,\n\u001b[0;32m   (...)\u001b[0m\n\u001b[1;32m   1794\u001b[0m     extensions: RequestExtensions \u001b[38;5;241m|\u001b[39m \u001b[38;5;28;01mNone\u001b[39;00m \u001b[38;5;241m=\u001b[39m \u001b[38;5;28;01mNone\u001b[39;00m,\n\u001b[1;32m   1795\u001b[0m ) \u001b[38;5;241m-\u001b[39m\u001b[38;5;241m>\u001b[39m Response:\n\u001b[1;32m   1796\u001b[0m \u001b[38;5;250m    \u001b[39m\u001b[38;5;124;03m\"\"\"\u001b[39;00m\n\u001b[1;32m   1797\u001b[0m \u001b[38;5;124;03m    Send a `GET` request.\u001b[39;00m\n\u001b[1;32m   1798\u001b[0m \n\u001b[1;32m   1799\u001b[0m \u001b[38;5;124;03m    **Parameters**: See `httpx.request`.\u001b[39;00m\n\u001b[1;32m   1800\u001b[0m \u001b[38;5;124;03m    \"\"\"\u001b[39;00m\n\u001b[0;32m-> 1801\u001b[0m     \u001b[38;5;28;01mreturn\u001b[39;00m \u001b[38;5;28;01mawait\u001b[39;00m \u001b[38;5;28mself\u001b[39m\u001b[38;5;241m.\u001b[39mrequest(\n\u001b[1;32m   1802\u001b[0m         \u001b[38;5;124m\"\u001b[39m\u001b[38;5;124mGET\u001b[39m\u001b[38;5;124m\"\u001b[39m,\n\u001b[1;32m   1803\u001b[0m         url,\n\u001b[1;32m   1804\u001b[0m         params\u001b[38;5;241m=\u001b[39mparams,\n\u001b[1;32m   1805\u001b[0m         headers\u001b[38;5;241m=\u001b[39mheaders,\n\u001b[1;32m   1806\u001b[0m         cookies\u001b[38;5;241m=\u001b[39mcookies,\n\u001b[1;32m   1807\u001b[0m         auth\u001b[38;5;241m=\u001b[39mauth,\n\u001b[1;32m   1808\u001b[0m         follow_redirects\u001b[38;5;241m=\u001b[39mfollow_redirects,\n\u001b[1;32m   1809\u001b[0m         timeout\u001b[38;5;241m=\u001b[39mtimeout,\n\u001b[1;32m   1810\u001b[0m         extensions\u001b[38;5;241m=\u001b[39mextensions,\n\u001b[1;32m   1811\u001b[0m     )\n",
      "File \u001b[0;32m~/Documents/tau-workers/venv/lib/python3.10/site-packages/httpx/_client.py:1574\u001b[0m, in \u001b[0;36mAsyncClient.request\u001b[0;34m(self, method, url, content, data, files, json, params, headers, cookies, auth, follow_redirects, timeout, extensions)\u001b[0m\n\u001b[1;32m   1559\u001b[0m     warnings\u001b[38;5;241m.\u001b[39mwarn(message, \u001b[38;5;167;01mDeprecationWarning\u001b[39;00m)\n\u001b[1;32m   1561\u001b[0m request \u001b[38;5;241m=\u001b[39m \u001b[38;5;28mself\u001b[39m\u001b[38;5;241m.\u001b[39mbuild_request(\n\u001b[1;32m   1562\u001b[0m     method\u001b[38;5;241m=\u001b[39mmethod,\n\u001b[1;32m   1563\u001b[0m     url\u001b[38;5;241m=\u001b[39murl,\n\u001b[0;32m   (...)\u001b[0m\n\u001b[1;32m   1572\u001b[0m     extensions\u001b[38;5;241m=\u001b[39mextensions,\n\u001b[1;32m   1573\u001b[0m )\n\u001b[0;32m-> 1574\u001b[0m \u001b[38;5;28;01mreturn\u001b[39;00m \u001b[38;5;28;01mawait\u001b[39;00m \u001b[38;5;28mself\u001b[39m\u001b[38;5;241m.\u001b[39msend(request, auth\u001b[38;5;241m=\u001b[39mauth, follow_redirects\u001b[38;5;241m=\u001b[39mfollow_redirects)\n",
      "File \u001b[0;32m~/Documents/tau-workers/venv/lib/python3.10/site-packages/httpx/_client.py:1661\u001b[0m, in \u001b[0;36mAsyncClient.send\u001b[0;34m(self, request, stream, auth, follow_redirects)\u001b[0m\n\u001b[1;32m   1653\u001b[0m follow_redirects \u001b[38;5;241m=\u001b[39m (\n\u001b[1;32m   1654\u001b[0m     \u001b[38;5;28mself\u001b[39m\u001b[38;5;241m.\u001b[39mfollow_redirects\n\u001b[1;32m   1655\u001b[0m     \u001b[38;5;28;01mif\u001b[39;00m \u001b[38;5;28misinstance\u001b[39m(follow_redirects, UseClientDefault)\n\u001b[1;32m   1656\u001b[0m     \u001b[38;5;28;01melse\u001b[39;00m follow_redirects\n\u001b[1;32m   1657\u001b[0m )\n\u001b[1;32m   1659\u001b[0m auth \u001b[38;5;241m=\u001b[39m \u001b[38;5;28mself\u001b[39m\u001b[38;5;241m.\u001b[39m_build_request_auth(request, auth)\n\u001b[0;32m-> 1661\u001b[0m response \u001b[38;5;241m=\u001b[39m \u001b[38;5;28;01mawait\u001b[39;00m \u001b[38;5;28mself\u001b[39m\u001b[38;5;241m.\u001b[39m_send_handling_auth(\n\u001b[1;32m   1662\u001b[0m     request,\n\u001b[1;32m   1663\u001b[0m     auth\u001b[38;5;241m=\u001b[39mauth,\n\u001b[1;32m   1664\u001b[0m     follow_redirects\u001b[38;5;241m=\u001b[39mfollow_redirects,\n\u001b[1;32m   1665\u001b[0m     history\u001b[38;5;241m=\u001b[39m[],\n\u001b[1;32m   1666\u001b[0m )\n\u001b[1;32m   1667\u001b[0m \u001b[38;5;28;01mtry\u001b[39;00m:\n\u001b[1;32m   1668\u001b[0m     \u001b[38;5;28;01mif\u001b[39;00m \u001b[38;5;129;01mnot\u001b[39;00m stream:\n",
      "File \u001b[0;32m~/Documents/tau-workers/venv/lib/python3.10/site-packages/httpx/_client.py:1689\u001b[0m, in \u001b[0;36mAsyncClient._send_handling_auth\u001b[0;34m(self, request, auth, follow_redirects, history)\u001b[0m\n\u001b[1;32m   1686\u001b[0m request \u001b[38;5;241m=\u001b[39m \u001b[38;5;28;01mawait\u001b[39;00m auth_flow\u001b[38;5;241m.\u001b[39m\u001b[38;5;21m__anext__\u001b[39m()\n\u001b[1;32m   1688\u001b[0m \u001b[38;5;28;01mwhile\u001b[39;00m \u001b[38;5;28;01mTrue\u001b[39;00m:\n\u001b[0;32m-> 1689\u001b[0m     response \u001b[38;5;241m=\u001b[39m \u001b[38;5;28;01mawait\u001b[39;00m \u001b[38;5;28mself\u001b[39m\u001b[38;5;241m.\u001b[39m_send_handling_redirects(\n\u001b[1;32m   1690\u001b[0m         request,\n\u001b[1;32m   1691\u001b[0m         follow_redirects\u001b[38;5;241m=\u001b[39mfollow_redirects,\n\u001b[1;32m   1692\u001b[0m         history\u001b[38;5;241m=\u001b[39mhistory,\n\u001b[1;32m   1693\u001b[0m     )\n\u001b[1;32m   1694\u001b[0m     \u001b[38;5;28;01mtry\u001b[39;00m:\n\u001b[1;32m   1695\u001b[0m         \u001b[38;5;28;01mtry\u001b[39;00m:\n",
      "File \u001b[0;32m~/Documents/tau-workers/venv/lib/python3.10/site-packages/httpx/_client.py:1726\u001b[0m, in \u001b[0;36mAsyncClient._send_handling_redirects\u001b[0;34m(self, request, follow_redirects, history)\u001b[0m\n\u001b[1;32m   1723\u001b[0m \u001b[38;5;28;01mfor\u001b[39;00m hook \u001b[38;5;129;01min\u001b[39;00m \u001b[38;5;28mself\u001b[39m\u001b[38;5;241m.\u001b[39m_event_hooks[\u001b[38;5;124m\"\u001b[39m\u001b[38;5;124mrequest\u001b[39m\u001b[38;5;124m\"\u001b[39m]:\n\u001b[1;32m   1724\u001b[0m     \u001b[38;5;28;01mawait\u001b[39;00m hook(request)\n\u001b[0;32m-> 1726\u001b[0m response \u001b[38;5;241m=\u001b[39m \u001b[38;5;28;01mawait\u001b[39;00m \u001b[38;5;28mself\u001b[39m\u001b[38;5;241m.\u001b[39m_send_single_request(request)\n\u001b[1;32m   1727\u001b[0m \u001b[38;5;28;01mtry\u001b[39;00m:\n\u001b[1;32m   1728\u001b[0m     \u001b[38;5;28;01mfor\u001b[39;00m hook \u001b[38;5;129;01min\u001b[39;00m \u001b[38;5;28mself\u001b[39m\u001b[38;5;241m.\u001b[39m_event_hooks[\u001b[38;5;124m\"\u001b[39m\u001b[38;5;124mresponse\u001b[39m\u001b[38;5;124m\"\u001b[39m]:\n",
      "File \u001b[0;32m~/Documents/tau-workers/venv/lib/python3.10/site-packages/httpx/_client.py:1763\u001b[0m, in \u001b[0;36mAsyncClient._send_single_request\u001b[0;34m(self, request)\u001b[0m\n\u001b[1;32m   1758\u001b[0m     \u001b[38;5;28;01mraise\u001b[39;00m \u001b[38;5;167;01mRuntimeError\u001b[39;00m(\n\u001b[1;32m   1759\u001b[0m         \u001b[38;5;124m\"\u001b[39m\u001b[38;5;124mAttempted to send an sync request with an AsyncClient instance.\u001b[39m\u001b[38;5;124m\"\u001b[39m\n\u001b[1;32m   1760\u001b[0m     )\n\u001b[1;32m   1762\u001b[0m \u001b[38;5;28;01mwith\u001b[39;00m request_context(request\u001b[38;5;241m=\u001b[39mrequest):\n\u001b[0;32m-> 1763\u001b[0m     response \u001b[38;5;241m=\u001b[39m \u001b[38;5;28;01mawait\u001b[39;00m transport\u001b[38;5;241m.\u001b[39mhandle_async_request(request)\n\u001b[1;32m   1765\u001b[0m \u001b[38;5;28;01massert\u001b[39;00m \u001b[38;5;28misinstance\u001b[39m(response\u001b[38;5;241m.\u001b[39mstream, AsyncByteStream)\n\u001b[1;32m   1766\u001b[0m response\u001b[38;5;241m.\u001b[39mrequest \u001b[38;5;241m=\u001b[39m request\n",
      "File \u001b[0;32m~/Documents/tau-workers/venv/lib/python3.10/site-packages/httpx/_transports/default.py:372\u001b[0m, in \u001b[0;36mAsyncHTTPTransport.handle_async_request\u001b[0;34m(self, request)\u001b[0m\n\u001b[1;32m    358\u001b[0m \u001b[38;5;28;01massert\u001b[39;00m \u001b[38;5;28misinstance\u001b[39m(request\u001b[38;5;241m.\u001b[39mstream, AsyncByteStream)\n\u001b[1;32m    360\u001b[0m req \u001b[38;5;241m=\u001b[39m httpcore\u001b[38;5;241m.\u001b[39mRequest(\n\u001b[1;32m    361\u001b[0m     method\u001b[38;5;241m=\u001b[39mrequest\u001b[38;5;241m.\u001b[39mmethod,\n\u001b[1;32m    362\u001b[0m     url\u001b[38;5;241m=\u001b[39mhttpcore\u001b[38;5;241m.\u001b[39mURL(\n\u001b[0;32m   (...)\u001b[0m\n\u001b[1;32m    370\u001b[0m     extensions\u001b[38;5;241m=\u001b[39mrequest\u001b[38;5;241m.\u001b[39mextensions,\n\u001b[1;32m    371\u001b[0m )\n\u001b[0;32m--> 372\u001b[0m \u001b[38;5;28;01mwith\u001b[39;00m map_httpcore_exceptions():\n\u001b[1;32m    373\u001b[0m     resp \u001b[38;5;241m=\u001b[39m \u001b[38;5;28;01mawait\u001b[39;00m \u001b[38;5;28mself\u001b[39m\u001b[38;5;241m.\u001b[39m_pool\u001b[38;5;241m.\u001b[39mhandle_async_request(req)\n\u001b[1;32m    375\u001b[0m \u001b[38;5;28;01massert\u001b[39;00m \u001b[38;5;28misinstance\u001b[39m(resp\u001b[38;5;241m.\u001b[39mstream, typing\u001b[38;5;241m.\u001b[39mAsyncIterable)\n",
      "File \u001b[0;32m~/.pyenv/versions/3.10.13/lib/python3.10/contextlib.py:153\u001b[0m, in \u001b[0;36m_GeneratorContextManager.__exit__\u001b[0;34m(self, typ, value, traceback)\u001b[0m\n\u001b[1;32m    151\u001b[0m     value \u001b[38;5;241m=\u001b[39m typ()\n\u001b[1;32m    152\u001b[0m \u001b[38;5;28;01mtry\u001b[39;00m:\n\u001b[0;32m--> 153\u001b[0m     \u001b[38;5;28;43mself\u001b[39;49m\u001b[38;5;241;43m.\u001b[39;49m\u001b[43mgen\u001b[49m\u001b[38;5;241;43m.\u001b[39;49m\u001b[43mthrow\u001b[49m\u001b[43m(\u001b[49m\u001b[43mtyp\u001b[49m\u001b[43m,\u001b[49m\u001b[43m \u001b[49m\u001b[43mvalue\u001b[49m\u001b[43m,\u001b[49m\u001b[43m \u001b[49m\u001b[43mtraceback\u001b[49m\u001b[43m)\u001b[49m\n\u001b[1;32m    154\u001b[0m \u001b[38;5;28;01mexcept\u001b[39;00m \u001b[38;5;167;01mStopIteration\u001b[39;00m \u001b[38;5;28;01mas\u001b[39;00m exc:\n\u001b[1;32m    155\u001b[0m     \u001b[38;5;66;03m# Suppress StopIteration *unless* it's the same exception that\u001b[39;00m\n\u001b[1;32m    156\u001b[0m     \u001b[38;5;66;03m# was passed to throw().  This prevents a StopIteration\u001b[39;00m\n\u001b[1;32m    157\u001b[0m     \u001b[38;5;66;03m# raised inside the \"with\" statement from being suppressed.\u001b[39;00m\n\u001b[1;32m    158\u001b[0m     \u001b[38;5;28;01mreturn\u001b[39;00m exc \u001b[38;5;129;01mis\u001b[39;00m \u001b[38;5;129;01mnot\u001b[39;00m value\n",
      "File \u001b[0;32m~/Documents/tau-workers/venv/lib/python3.10/site-packages/httpx/_transports/default.py:86\u001b[0m, in \u001b[0;36mmap_httpcore_exceptions\u001b[0;34m()\u001b[0m\n\u001b[1;32m     83\u001b[0m     \u001b[38;5;28;01mraise\u001b[39;00m\n\u001b[1;32m     85\u001b[0m message \u001b[38;5;241m=\u001b[39m \u001b[38;5;28mstr\u001b[39m(exc)\n\u001b[0;32m---> 86\u001b[0m \u001b[38;5;28;01mraise\u001b[39;00m mapped_exc(message) \u001b[38;5;28;01mfrom\u001b[39;00m \u001b[38;5;21;01mexc\u001b[39;00m\n",
      "\u001b[0;31mReadTimeout\u001b[0m: "
     ]
    }
   ],
   "source": [
    "# Check for completions \n",
    "from sdk.task_config import CHAT_ROGUE_ROSE_103B\n",
    "\n",
    "\n",
    "payload = example_completion_payload.copy()\n",
    "payload[\"model\"] = \"sophosympatheia/Rogue-Rose-103b-v0.2/tree/exl2-3.2bpw\"\n",
    "# messages = await get_real_response(payload=payload, chat=False, llm_url=\"http://83.143.115.20:6919\")\n",
    "# await sdk.check_result(task=CHAT_ROGUE_ROSE_103B, payload=payload, orchestrator_url=\"http://83.143.115.20:6920/\", miner_response=messages[:-1])\n",
    "\n",
    "await sdk.check_result(task=CHAT_ROGUE_ROSE_103B, payload=payload, orchestrator_url=\"http://83.143.115.20:6920/\", miner_response=[])"
   ]
  },
  {
   "cell_type": "code",
   "execution_count": 29,
   "metadata": {},
   "outputs": [
    {
     "name": "stderr",
     "output_type": "stream",
     "text": [
      "\u001b[32m2024-11-30 20:07:47.511\u001b[0m | \u001b[1mINFO    \u001b[0m | \u001b[36m__main__\u001b[0m:\u001b[36mmain\u001b[0m:\u001b[36m34\u001b[0m - \u001b[1m{'count': 16, 'max_model_len': 20000, 'tokens': [128000, 128006, 882, 128007, 271, 9906, 11, 1268, 527, 499, 30, 128009, 128006, 78191, 128007, 271]}\u001b[0m\n",
      "\u001b[32m2024-11-30 20:07:47.911\u001b[0m | \u001b[1mINFO    \u001b[0m | \u001b[36m__main__\u001b[0m:\u001b[36mmain\u001b[0m:\u001b[36m42\u001b[0m - \u001b[1m{'id': 'cmpl-6dca6c5b5044417b9db7a3d0f1f9375f', 'object': 'text_completion', 'created': 1732993667, 'model': 'unsloth/Meta-Llama-3.1-8B-Instruct', 'choices': [{'index': 0, 'text': \"I'm just a computer program, so I don\", 'logprobs': None, 'finish_reason': 'length', 'stop_reason': None, 'prompt_logprobs': None}], 'usage': {'prompt_tokens': 16, 'total_tokens': 26, 'completion_tokens': 10}}\u001b[0m\n"
     ]
    }
   ],
   "source": [
    "import requests\n",
    "import json\n",
    "from loguru import logger\n",
    "\n",
    "def tokenize_message(url, payload):\n",
    "    response = requests.post(url, json=payload)\n",
    "    if response.status_code == 200:\n",
    "        return response.json()\n",
    "    else:\n",
    "        logger.error(f\"Error: {response.status_code} - {response.text}\")\n",
    "        return None\n",
    "\n",
    "def generate_completions(url, payload):\n",
    "    response = requests.post(url, json=payload)\n",
    "    if response.status_code == 200:\n",
    "        return response.json()\n",
    "    else:\n",
    "        logger.error(f\"Error: {response.status_code} - {response.text}\")\n",
    "        return None\n",
    "\n",
    "def main():\n",
    "    tokenize_url = \"http://83.143.115.20:6919/tokenize\"\n",
    "    completions_url = \"http://83.143.115.20:6919/v1/completions\"\n",
    "\n",
    "    tokenize_payload = {\n",
    "        \"messages\": [\n",
    "            {\"role\": \"user\", \"content\": \"Hello, how are you?\"}\n",
    "        ],\n",
    "        \"model\": \"unsloth/Meta-Llama-3.1-8B-Instruct\"\n",
    "    }\n",
    "\n",
    "    tokenize_response = tokenize_message(tokenize_url, tokenize_payload)\n",
    "    if tokenize_response is not None:\n",
    "        logger.info(tokenize_response)\n",
    "        completions_payload = {\n",
    "            \"prompt\": tokenize_response[\"tokens\"],\n",
    "            \"max_tokens\": 10,\n",
    "            \"model\": \"unsloth/Meta-Llama-3.1-8B-Instruct\",\n",
    "        }\n",
    "        completions_response = generate_completions(completions_url, completions_payload)\n",
    "        if completions_response is not None:\n",
    "            logger.info(completions_response)\n",
    "\n",
    "main()"
   ]
  },
  {
   "cell_type": "code",
   "execution_count": 1,
   "metadata": {},
   "outputs": [],
   "source": [
    "BASE_URL = \"http://83.143.115.20:6919\""
   ]
  },
  {
   "cell_type": "code",
   "execution_count": 2,
   "metadata": {},
   "outputs": [],
   "source": [
    "import httpx\n",
    "\n",
    "async def apply_chat_template(messages: list[dict], model: str = \"unsloth/Meta-Llama-3.1-8B-Instruct\", eot_id: int = 128009, add_generation_prompt: bool = True):\n",
    "    async with httpx.AsyncClient() as client:\n",
    "        r = await client.post(url=f\"{BASE_URL}/tokenize\", json={\"model\": model, \"messages\": messages})\n",
    "        r.raise_for_status()  # raise an exception for 4xx or 5xx status codes\n",
    "        tokens: list[int] = r.json()[\"tokens\"]\n",
    "        if \"llama-3\" in model.lower() and not add_generation_prompt:\n",
    "            index_of_last_eot_id = max((loc for loc, val in enumerate(tokens) if val == eot_id), default=None)\n",
    "            if index_of_last_eot_id is not None:\n",
    "                tokens = tokens[:index_of_last_eot_id]\n",
    "        \n",
    "        r2 = await client.post(url=f\"{BASE_URL}/detokenize\", json={\"tokens\": tokens, \"model\": model})\n",
    "        r2.raise_for_status()  # raise an exception for 4xx or 5xx status codes\n",
    "        \n",
    "        prompt = r2.json()[\"prompt\"]\n",
    "        return prompt, len(tokens)"
   ]
  },
  {
   "cell_type": "code",
   "execution_count": 3,
   "metadata": {},
   "outputs": [],
   "source": [
    "async def tokenize(prompt: str, model: str = \"unsloth/Meta-Llama-3.1-8B-Instruct\"):\n",
    "    async with httpx.AsyncClient() as client:\n",
    "        r = await client.post(url=f\"{BASE_URL}/tokenize\", json={\"model\": model, \"prompt\": prompt})\n",
    "        r.raise_for_status()  # raise an exception for 4xx or 5xx status codes\n",
    "        return r.json()[\"tokens\"]"
   ]
  },
  {
   "cell_type": "code",
   "execution_count": 4,
   "metadata": {},
   "outputs": [],
   "source": [
    "async def detokenize(tokens: list[int], model: str = \"unsloth/Meta-Llama-3.1-8B-Instruct\"):\n",
    "    async with httpx.AsyncClient() as client:\n",
    "        r = await client.post(url=f\"{BASE_URL}/detokenize\", json={\"tokens\": tokens, \"model\": model})\n",
    "        r.raise_for_status()  # raise an exception for 4xx or 5xx status codes\n",
    "        return r.json()[\"prompt\"]\n"
   ]
  },
  {
   "cell_type": "code",
   "execution_count": 5,
   "metadata": {},
   "outputs": [
    {
     "data": {
      "text/plain": [
       "{'prompt': '!N<|eot_id|>--9'}"
      ]
     },
     "execution_count": 5,
     "metadata": {},
     "output_type": "execute_result"
    }
   ],
   "source": [
    "async with httpx.AsyncClient() as client:\n",
    "    r = await client.post(url=f\"{BASE_URL}/detokenize\", json={\"tokens\": [0, 45, 128009, 12, 12, 24], \"model\": \"unsloth/Meta-Llama-3.1-8B-Instruct\"})\n",
    "    r.raise_for_status()  # raise an exception for 4xx or 5xx status codes\n",
    "    r.json()\n",
    "r.json()"
   ]
  },
  {
   "cell_type": "code",
   "execution_count": 6,
   "metadata": {},
   "outputs": [],
   "source": [
    "def _fjson(r: list[dict]):\n",
    "    for d in r:\n",
    "        for p in d.values():\n",
    "            p[\"logprob\"] = round(float(p[\"logprob\"]), 2)\n",
    "    return r\n"
   ]
  },
  {
   "cell_type": "code",
   "execution_count": 8,
   "metadata": {},
   "outputs": [
    {
     "data": {
      "text/plain": [
       "('<|begin_of_text|><|start_header_id|>user<|end_header_id|>\\n\\nHello, how are you? respond in 3 words<|eot_id|><|start_header_id|>assistant<|end_header_id|>\\n\\n',\n",
       " 21)"
      ]
     },
     "execution_count": 8,
     "metadata": {},
     "output_type": "execute_result"
    }
   ],
   "source": [
    "# Get the input prompt & chat messages\n",
    "input_messages = [    \n",
    "    {\"role\": \"user\", \"content\": \"Hello, how are you? respond in 3 words\"},\n",
    "]\n",
    "prompt, num_input_tokens = await apply_chat_template(\n",
    "    messages=input_messages,\n",
    "    model=\"unsloth/Meta-Llama-3.1-8B-Instruct\",\n",
    "    eot_id=128009,\n",
    "    add_generation_prompt=True,\n",
    ")\n",
    "prompt, num_input_tokens"
   ]
  },
  {
   "cell_type": "code",
   "execution_count": 10,
   "metadata": {},
   "outputs": [
    {
     "ename": "NameError",
     "evalue": "name 'requests' is not defined",
     "output_type": "error",
     "traceback": [
      "\u001b[0;31m---------------------------------------------------------------------------\u001b[0m",
      "\u001b[0;31mNameError\u001b[0m                                 Traceback (most recent call last)",
      "Cell \u001b[0;32mIn[10], line 2\u001b[0m\n\u001b[1;32m      1\u001b[0m \u001b[38;5;66;03m# Get the response from completions\u001b[39;00m\n\u001b[0;32m----> 2\u001b[0m r \u001b[38;5;241m=\u001b[39m \u001b[43mrequests\u001b[49m\u001b[38;5;241m.\u001b[39mpost(\u001b[38;5;124mf\u001b[39m\u001b[38;5;124m\"\u001b[39m\u001b[38;5;132;01m{\u001b[39;00mBASE_URL\u001b[38;5;132;01m}\u001b[39;00m\u001b[38;5;124m/v1/completions\u001b[39m\u001b[38;5;124m\"\u001b[39m, json\u001b[38;5;241m=\u001b[39m{\n\u001b[1;32m      3\u001b[0m     \u001b[38;5;124m\"\u001b[39m\u001b[38;5;124mprompt\u001b[39m\u001b[38;5;124m\"\u001b[39m: prompt,\n\u001b[1;32m      4\u001b[0m     \u001b[38;5;124m\"\u001b[39m\u001b[38;5;124mmax_tokens\u001b[39m\u001b[38;5;124m\"\u001b[39m: \u001b[38;5;241m30\u001b[39m,\n\u001b[1;32m      5\u001b[0m     \u001b[38;5;124m\"\u001b[39m\u001b[38;5;124mmodel\u001b[39m\u001b[38;5;124m\"\u001b[39m: \u001b[38;5;124m\"\u001b[39m\u001b[38;5;124munsloth/Meta-Llama-3.1-8B-Instruct\u001b[39m\u001b[38;5;124m\"\u001b[39m,\n\u001b[1;32m      6\u001b[0m     \u001b[38;5;124m\"\u001b[39m\u001b[38;5;124mtemperature\u001b[39m\u001b[38;5;124m\"\u001b[39m: \u001b[38;5;241m1.0\u001b[39m,\n\u001b[1;32m      7\u001b[0m     \u001b[38;5;124m\"\u001b[39m\u001b[38;5;124minclude_stop_str_in_output\u001b[39m\u001b[38;5;124m\"\u001b[39m: \u001b[38;5;28;01mTrue\u001b[39;00m,\n\u001b[1;32m      8\u001b[0m })\n\u001b[1;32m     10\u001b[0m \u001b[38;5;28mprint\u001b[39m(r\u001b[38;5;241m.\u001b[39mstatus_code)\n\u001b[1;32m     11\u001b[0m content \u001b[38;5;241m=\u001b[39m json\u001b[38;5;241m.\u001b[39mloads(r\u001b[38;5;241m.\u001b[39mtext)[\u001b[38;5;124m\"\u001b[39m\u001b[38;5;124mchoices\u001b[39m\u001b[38;5;124m\"\u001b[39m][\u001b[38;5;241m0\u001b[39m][\u001b[38;5;124m\"\u001b[39m\u001b[38;5;124mtext\u001b[39m\u001b[38;5;124m\"\u001b[39m]\n",
      "\u001b[0;31mNameError\u001b[0m: name 'requests' is not defined"
     ]
    }
   ],
   "source": [
    "# Get the response from completions\n",
    "r = requests.post(f\"{BASE_URL}/v1/completions\", json={\n",
    "    \"prompt\": prompt,\n",
    "    \"max_tokens\": 30,\n",
    "    \"model\": \"unsloth/Meta-Llama-3.1-8B-Instruct\",\n",
    "    \"temperature\": 1.0,\n",
    "    \"include_stop_str_in_output\": True,\n",
    "})\n",
    "\n",
    "print(r.status_code)\n",
    "content = json.loads(r.text)[\"choices\"][0][\"text\"]\n",
    "content\n",
    "\n",
    "\n"
   ]
  },
  {
   "cell_type": "code",
   "execution_count": 18,
   "metadata": {},
   "outputs": [],
   "source": [
    "# Get the full response\n",
    "response = prompt + content\n",
    "response_tokens = await tokenize(response, \"unsloth/Meta-Llama-3.1-8B-Instruct\")\n",
    "if response_tokens[-1] != 128009:\n",
    "    response_tokens.append(128009)\n",
    "response = await detokenize(response_tokens, \"unsloth/Meta-Llama-3.1-8B-Instruct\")\n",
    "chat_response = input_messages + [{\"role\": \"assistant\", \"content\": content}]"
   ]
  },
  {
   "cell_type": "code",
   "execution_count": 19,
   "metadata": {},
   "outputs": [
    {
     "data": {
      "text/plain": [
       "[40, 2846, 3815, 7060, 13]"
      ]
     },
     "execution_count": 19,
     "metadata": {},
     "output_type": "execute_result"
    }
   ],
   "source": [
    "await tokenize(content, \"unsloth/Meta-Llama-3.1-8B-Instruct\")"
   ]
  },
  {
   "cell_type": "code",
   "execution_count": 6,
   "metadata": {},
   "outputs": [
    {
     "ename": "NameError",
     "evalue": "name 'response_tokens' is not defined",
     "output_type": "error",
     "traceback": [
      "\u001b[0;31m---------------------------------------------------------------------------\u001b[0m",
      "\u001b[0;31mNameError\u001b[0m                                 Traceback (most recent call last)",
      "Cell \u001b[0;32mIn[6], line 1\u001b[0m\n\u001b[0;32m----> 1\u001b[0m \u001b[43mresponse_tokens\u001b[49m\n",
      "\u001b[0;31mNameError\u001b[0m: name 'response_tokens' is not defined"
     ]
    }
   ],
   "source": [
    "response_tokens"
   ]
  },
  {
   "cell_type": "code",
   "execution_count": 21,
   "metadata": {},
   "outputs": [
    {
     "name": "stdout",
     "output_type": "stream",
     "text": [
      "200\n"
     ]
    },
    {
     "data": {
      "text/plain": [
       "[{'40': {'logprob': -0.0076646762900054455, 'rank': 1, 'decoded_token': 'I'},\n",
       "  '84146': {'logprob': -5.445164680480957,\n",
       "   'rank': 2,\n",
       "   'decoded_token': 'Doing'}},\n",
       " {'2846': {'logprob': -0.10332441329956055, 'rank': 1, 'decoded_token': \"'m\"},\n",
       "  '1097': {'logprob': -2.3220744132995605, 'rank': 2, 'decoded_token': ' am'}},\n",
       " {'3815': {'logprob': -0.61980140209198, 'rank': 1, 'decoded_token': ' doing'},\n",
       "  '31301': {'logprob': -0.86980140209198,\n",
       "   'rank': 2,\n",
       "   'decoded_token': ' functioning'}},\n",
       " {'7060': {'logprob': -2.8158586025238037,\n",
       "   'rank': 3,\n",
       "   'decoded_token': ' fine'},\n",
       "  '1664': {'logprob': -0.5502336621284485,\n",
       "   'rank': 1,\n",
       "   'decoded_token': ' well'},\n",
       "  '2294': {'logprob': -1.0189836025238037,\n",
       "   'rank': 2,\n",
       "   'decoded_token': ' great'}},\n",
       " {'13': {'logprob': -0.2513454854488373, 'rank': 1, 'decoded_token': '.'},\n",
       "  '128009': {'logprob': -1.9075955152511597, 'rank': 2, 'decoded_token': ''}},\n",
       " {'128009': {'logprob': -9.035655966727063e-05,\n",
       "   'rank': 1,\n",
       "   'decoded_token': ''},\n",
       "  '9930': {'logprob': -9.875090599060059,\n",
       "   'rank': 2,\n",
       "   'decoded_token': ' Thank'}}]"
      ]
     },
     "execution_count": 21,
     "metadata": {},
     "output_type": "execute_result"
    }
   ],
   "source": [
    "# Get the prompt logprobs from completions\n",
    "r = requests.post(f\"{BASE_URL}/v1/completions\", json={\n",
    "    \"prompt\": response,\n",
    "    \"model\": \"unsloth/Meta-Llama-3.1-8B-Instruct\",\n",
    "    \"temperature\": 1.0,\n",
    "    \"max_tokens\": 1,\n",
    "    \"prompt_logprobs\": 2\n",
    "})\n",
    "\n",
    "print(r.status_code)\n",
    "result = json.loads(r.text)\n",
    "# result[\"prompt_logprobs\"]\n",
    "result[\"choices\"][0][\"prompt_logprobs\"][num_input_tokens:]"
   ]
  },
  {
   "cell_type": "code",
   "execution_count": 22,
   "metadata": {},
   "outputs": [
    {
     "data": {
      "text/plain": [
       "[{'40': {'logprob': -0.01, 'rank': 1, 'decoded_token': 'I'},\n",
       "  '84146': {'logprob': -5.45, 'rank': 2, 'decoded_token': 'Doing'}},\n",
       " {'2846': {'logprob': -0.1, 'rank': 1, 'decoded_token': \"'m\"},\n",
       "  '1097': {'logprob': -2.32, 'rank': 2, 'decoded_token': ' am'}},\n",
       " {'3815': {'logprob': -0.62, 'rank': 1, 'decoded_token': ' doing'},\n",
       "  '31301': {'logprob': -0.87, 'rank': 2, 'decoded_token': ' functioning'}},\n",
       " {'7060': {'logprob': -2.82, 'rank': 3, 'decoded_token': ' fine'},\n",
       "  '1664': {'logprob': -0.55, 'rank': 1, 'decoded_token': ' well'},\n",
       "  '2294': {'logprob': -1.02, 'rank': 2, 'decoded_token': ' great'}},\n",
       " {'13': {'logprob': -0.25, 'rank': 1, 'decoded_token': '.'},\n",
       "  '128009': {'logprob': -1.91, 'rank': 2, 'decoded_token': ''}},\n",
       " {'128009': {'logprob': -0.0, 'rank': 1, 'decoded_token': ''},\n",
       "  '9930': {'logprob': -9.88, 'rank': 2, 'decoded_token': ' Thank'}}]"
      ]
     },
     "execution_count": 22,
     "metadata": {},
     "output_type": "execute_result"
    }
   ],
   "source": [
    "prompt_logprobs_to_check = _fjson(result[\"choices\"][0][\"prompt_logprobs\"][num_input_tokens:])\n",
    "prompt_logprobs_to_check\n"
   ]
  },
  {
   "cell_type": "code",
   "execution_count": 28,
   "metadata": {},
   "outputs": [
    {
     "name": "stdout",
     "output_type": "stream",
     "text": [
      "200\n"
     ]
    },
    {
     "data": {
      "text/plain": [
       "{'id': 'cmpl-f2fb4d973c8f4128b1120ccb8c9e0538',\n",
       " 'object': 'text_completion',\n",
       " 'created': 1732993583,\n",
       " 'model': 'unsloth/Meta-Llama-3.1-8B-Instruct',\n",
       " 'choices': [{'index': 0,\n",
       "   'text': '.',\n",
       "   'logprobs': {'text_offset': [0],\n",
       "    'token_logprobs': [-0.2513526976108551],\n",
       "    'tokens': ['.'],\n",
       "    'top_logprobs': [{'.': -0.2513526976108551,\n",
       "      '': -1.9076026678085327,\n",
       "      ' thanks': -3.5794777870178223,\n",
       "      ' thank': -3.6576027870178223,\n",
       "      ' today': -4.298227787017822}]},\n",
       "   'finish_reason': 'length',\n",
       "   'stop_reason': None,\n",
       "   'prompt_logprobs': None}],\n",
       " 'usage': {'prompt_tokens': 25, 'total_tokens': 26, 'completion_tokens': 1}}"
      ]
     },
     "execution_count": 28,
     "metadata": {},
     "output_type": "execute_result"
    }
   ],
   "source": [
    "# Check random token\n",
    "\n",
    "r = requests.post(f\"{BASE_URL}/v1/completions\", json={\n",
    "    \"prompt\": await detokenize(response_tokens[:-2], \"unsloth/Meta-Llama-3.1-8B-Instruct\"),\n",
    "    \"model\": \"unsloth/Meta-Llama-3.1-8B-Instruct\",\n",
    "    \"temperature\": 0.0,\n",
    "    \"max_tokens\": 1,\n",
    "    # \"prompt_logprobs\": 1,\n",
    "    \"logprobs\": 5,\n",
    "})\n",
    "\n",
    "print(r.status_code)\n",
    "result = json.loads(r.text)\n",
    "result\n",
    "# result[\"choices\"][0][\"prompt_logprobs\"][num_input_tokens:]\n",
    "# result[\"logprobs\"][-1]"
   ]
  },
  {
   "cell_type": "code",
   "execution_count": 148,
   "metadata": {},
   "outputs": [],
   "source": [
    "chat_response\n",
    "fake_chat_response = [{\"role\": \"user\", \"content\": \"Hello, how are you? respond in 3 words\"}, {\"role\": \"assistant\", \"content\": \"I'm doing\"}]"
   ]
  },
  {
   "cell_type": "code",
   "execution_count": 152,
   "metadata": {},
   "outputs": [
    {
     "name": "stdout",
     "output_type": "stream",
     "text": [
      "200\n"
     ]
    },
    {
     "data": {
      "text/plain": [
       "{'id': 'chat-e2bbd310ca9947cca336b0a4b4b06751',\n",
       " 'object': 'chat.completion',\n",
       " 'created': 1732993403,\n",
       " 'model': 'unsloth/Meta-Llama-3.1-8B-Instruct',\n",
       " 'choices': [{'index': 0,\n",
       "   'message': {'role': 'assistant', 'content': 'well,', 'tool_calls': []},\n",
       "   'logprobs': {'content': [{'token': 'well',\n",
       "      'logprob': -0.958371102809906,\n",
       "      'bytes': [119, 101, 108, 108],\n",
       "      'top_logprobs': [{'token': 'well',\n",
       "        'logprob': -0.958371102809906,\n",
       "        'bytes': [119, 101, 108, 108]},\n",
       "       {'token': 'great',\n",
       "        'logprob': -1.4271211624145508,\n",
       "        'bytes': [103, 114, 101, 97, 116]},\n",
       "       {'token': 'fine',\n",
       "        'logprob': -2.177121162414551,\n",
       "        'bytes': [102, 105, 110, 101]},\n",
       "       {'token': 'pretty',\n",
       "        'logprob': -3.286496162414551,\n",
       "        'bytes': [112, 114, 101, 116, 116, 121]},\n",
       "       {'token': 'very',\n",
       "        'logprob': -3.489621162414551,\n",
       "        'bytes': [118, 101, 114, 121]}]},\n",
       "     {'token': ',',\n",
       "      'logprob': -0.41791412234306335,\n",
       "      'bytes': [44],\n",
       "      'top_logprobs': [{'token': ',',\n",
       "        'logprob': -0.41791412234306335,\n",
       "        'bytes': [44]},\n",
       "       {'token': ' thank',\n",
       "        'logprob': -1.8241641521453857,\n",
       "        'bytes': [32, 116, 104, 97, 110, 107]},\n",
       "       {'token': ' thanks',\n",
       "        'logprob': -2.2304141521453857,\n",
       "        'bytes': [32, 116, 104, 97, 110, 107, 115]},\n",
       "       {'token': ' today',\n",
       "        'logprob': -3.2772891521453857,\n",
       "        'bytes': [32, 116, 111, 100, 97, 121]},\n",
       "       {'token': ' enough',\n",
       "        'logprob': -4.417913913726807,\n",
       "        'bytes': [32, 101, 110, 111, 117, 103, 104]}]}]},\n",
       "   'finish_reason': 'length',\n",
       "   'stop_reason': None}],\n",
       " 'usage': {'prompt_tokens': 29, 'total_tokens': 31, 'completion_tokens': 2},\n",
       " 'prompt_logprobs': None}"
      ]
     },
     "execution_count": 152,
     "metadata": {},
     "output_type": "execute_result"
    }
   ],
   "source": [
    "# Check end of token\n",
    "r = requests.post(f\"{BASE_URL}/v1/chat/completions\", json={\n",
    "    \"messages\": fake_chat_response,\n",
    "    \"model\": \"unsloth/Meta-Llama-3.1-8B-Instruct\",\n",
    "    \"temperature\": 0.0,\n",
    "    \"max_tokens\": 2,\n",
    "    \"logprobs\": True,\n",
    "    \"top_logprobs\": 5,\n",
    "    \"add_generation_prompt\": True,\n",
    "    \"add_special_tokens\": False,\n",
    "    \"include_stop_str_in_output\": True,\n",
    "    \"top_k\": 5,\n",
    "})\n",
    "\n",
    "print(r.status_code)\n",
    "result = json.loads(r.text)\n",
    "# result[\"logprobs\"][-1]\n",
    "result"
   ]
  },
  {
   "cell_type": "code",
   "execution_count": 151,
   "metadata": {},
   "outputs": [
    {
     "name": "stdout",
     "output_type": "stream",
     "text": [
      "200 {\"count\":16,\"max_model_len\":20000,\"tokens\":[128000,128006,882,128007,271,9906,11,1268,527,499,30,128009,128006,78191,128007,271]}\n",
      "{'count': 16, 'max_model_len': 20000, 'tokens': [128000, 128006, 882, 128007, 271, 9906, 11, 1268, 527, 499, 30, 128009, 128006, 78191, 128007, 271]}\n"
     ]
    }
   ],
   "source": [
    "r = requests.post(url=f\"{BASE_URL}/tokenize\", json={\n",
    "    \"model\": \"unsloth/Meta-Llama-3.1-8B-Instruct\",\n",
    "    \"messages\": [\n",
    "        {\"role\": \"user\", \"content\": \"Hello, how are you?\"},\n",
    "        # {\"role\": \"assistant\", \"content\": \"I am good\"},\n",
    "    ]\n",
    "})\n",
    "\n",
    "print(r.status_code, r.text)\n",
    "print(r.json())\n",
    "\n",
    "tokens = r.json()[\"tokens\"]"
   ]
  },
  {
   "cell_type": "code",
   "execution_count": 25,
   "metadata": {},
   "outputs": [
    {
     "name": "stdout",
     "output_type": "stream",
     "text": [
      "200 {\"prompt\":\"<|begin_of_text|><|start_header_id|>user<|end_header_id|>\\n\\nHello, how are you?<|eot_id|><|start_header_id|>assistant<|end_header_id|>\\n\\n\"}\n",
      "{'prompt': '<|begin_of_text|><|start_header_id|>user<|end_header_id|>\\n\\nHello, how are you?<|eot_id|><|start_header_id|>assistant<|end_header_id|>\\n\\n'}\n"
     ]
    }
   ],
   "source": [
    "r = requests.post(url=f\"{BASE_URL}/detokenize\", json={\n",
    "    \"tokens\": tokens,\n",
    "    \"model\": \"unsloth/Meta-Llama-3.1-8B-Instruct\"\n",
    "})\n",
    "print(r.status_code, r.text)\n",
    "print(r.json())"
   ]
  },
  {
   "cell_type": "code",
   "execution_count": 10,
   "metadata": {},
   "outputs": [],
   "source": [
    "from sdk import sdk"
   ]
  },
  {
   "cell_type": "code",
   "execution_count": 33,
   "metadata": {},
   "outputs": [
    {
     "name": "stderr",
     "output_type": "stream",
     "text": [
      "\u001b[32m2024-11-23 21:54:28.895\u001b[0m | \u001b[1mINFO    \u001b[0m | \u001b[36msdk.sdk\u001b[0m:\u001b[36mcheck_result\u001b[0m:\u001b[36m83\u001b[0m - \u001b[1mGot task ID: dab8de1c-076c-491e-93e8-a4f96c9b61ee !!!\u001b[0m\n",
      "\u001b[32m2024-11-23 21:54:28.904\u001b[0m | \u001b[1mINFO    \u001b[0m | \u001b[36msdk.orchestrator_handling\u001b[0m:\u001b[36mhandle_task_id\u001b[0m:\u001b[36m21\u001b[0m - \u001b[1mWaiting for task dab8de1c-076c-491e-93e8-a4f96c9b61ee to be done - check number: 1\u001b[0m\n",
      "\u001b[32m2024-11-23 21:54:30.249\u001b[0m | \u001b[1mINFO    \u001b[0m | \u001b[36msdk.orchestrator_handling\u001b[0m:\u001b[36mhandle_task_id\u001b[0m:\u001b[36m21\u001b[0m - \u001b[1mWaiting for task dab8de1c-076c-491e-93e8-a4f96c9b61ee to be done - check number: 2\u001b[0m\n",
      "\u001b[32m2024-11-23 21:54:31.473\u001b[0m | \u001b[1mINFO    \u001b[0m | \u001b[36msdk.orchestrator_handling\u001b[0m:\u001b[36mhandle_task_id\u001b[0m:\u001b[36m21\u001b[0m - \u001b[1mWaiting for task dab8de1c-076c-491e-93e8-a4f96c9b61ee to be done - check number: 3\u001b[0m\n",
      "\u001b[32m2024-11-23 21:54:32.700\u001b[0m | \u001b[1mINFO    \u001b[0m | \u001b[36msdk.orchestrator_handling\u001b[0m:\u001b[36mhandle_task_id\u001b[0m:\u001b[36m21\u001b[0m - \u001b[1mWaiting for task dab8de1c-076c-491e-93e8-a4f96c9b61ee to be done - check number: 4\u001b[0m\n",
      "\u001b[32m2024-11-23 21:54:33.926\u001b[0m | \u001b[1mINFO    \u001b[0m | \u001b[36msdk.orchestrator_handling\u001b[0m:\u001b[36mhandle_task_id\u001b[0m:\u001b[36m21\u001b[0m - \u001b[1mWaiting for task dab8de1c-076c-491e-93e8-a4f96c9b61ee to be done - check number: 5\u001b[0m\n",
      "\u001b[32m2024-11-23 21:54:35.469\u001b[0m | \u001b[1mINFO    \u001b[0m | \u001b[36msdk.orchestrator_handling\u001b[0m:\u001b[36mhandle_task_id\u001b[0m:\u001b[36m21\u001b[0m - \u001b[1mWaiting for task dab8de1c-076c-491e-93e8-a4f96c9b61ee to be done - check number: 6\u001b[0m\n",
      "\u001b[32m2024-11-23 21:54:37.041\u001b[0m | \u001b[1mINFO    \u001b[0m | \u001b[36msdk.orchestrator_handling\u001b[0m:\u001b[36mhandle_task_id\u001b[0m:\u001b[36m21\u001b[0m - \u001b[1mWaiting for task dab8de1c-076c-491e-93e8-a4f96c9b61ee to be done - check number: 7\u001b[0m\n",
      "\u001b[32m2024-11-23 21:54:38.300\u001b[0m | \u001b[1mINFO    \u001b[0m | \u001b[36msdk.orchestrator_handling\u001b[0m:\u001b[36mhandle_task_id\u001b[0m:\u001b[36m21\u001b[0m - \u001b[1mWaiting for task dab8de1c-076c-491e-93e8-a4f96c9b61ee to be done - check number: 8\u001b[0m\n",
      "\u001b[32m2024-11-23 21:54:39.555\u001b[0m | \u001b[1mINFO    \u001b[0m | \u001b[36msdk.orchestrator_handling\u001b[0m:\u001b[36mhandle_task_id\u001b[0m:\u001b[36m21\u001b[0m - \u001b[1mWaiting for task dab8de1c-076c-491e-93e8-a4f96c9b61ee to be done - check number: 9\u001b[0m\n",
      "\u001b[32m2024-11-23 21:54:40.810\u001b[0m | \u001b[1mINFO    \u001b[0m | \u001b[36msdk.orchestrator_handling\u001b[0m:\u001b[36mhandle_task_id\u001b[0m:\u001b[36m21\u001b[0m - \u001b[1mWaiting for task dab8de1c-076c-491e-93e8-a4f96c9b61ee to be done - check number: 10\u001b[0m\n",
      "\u001b[32m2024-11-23 21:54:42.056\u001b[0m | \u001b[1mINFO    \u001b[0m | \u001b[36msdk.orchestrator_handling\u001b[0m:\u001b[36mhandle_task_id\u001b[0m:\u001b[36m21\u001b[0m - \u001b[1mWaiting for task dab8de1c-076c-491e-93e8-a4f96c9b61ee to be done - check number: 11\u001b[0m\n",
      "\u001b[32m2024-11-23 21:54:43.302\u001b[0m | \u001b[1mINFO    \u001b[0m | \u001b[36msdk.orchestrator_handling\u001b[0m:\u001b[36mhandle_task_id\u001b[0m:\u001b[36m21\u001b[0m - \u001b[1mWaiting for task dab8de1c-076c-491e-93e8-a4f96c9b61ee to be done - check number: 12\u001b[0m\n",
      "\u001b[32m2024-11-23 21:54:44.548\u001b[0m | \u001b[1mINFO    \u001b[0m | \u001b[36msdk.orchestrator_handling\u001b[0m:\u001b[36mhandle_task_id\u001b[0m:\u001b[36m21\u001b[0m - \u001b[1mWaiting for task dab8de1c-076c-491e-93e8-a4f96c9b61ee to be done - check number: 13\u001b[0m\n",
      "\u001b[32m2024-11-23 21:54:45.796\u001b[0m | \u001b[1mINFO    \u001b[0m | \u001b[36msdk.orchestrator_handling\u001b[0m:\u001b[36mhandle_task_id\u001b[0m:\u001b[36m21\u001b[0m - \u001b[1mWaiting for task dab8de1c-076c-491e-93e8-a4f96c9b61ee to be done - check number: 14\u001b[0m\n",
      "\u001b[32m2024-11-23 21:54:47.040\u001b[0m | \u001b[1mINFO    \u001b[0m | \u001b[36msdk.orchestrator_handling\u001b[0m:\u001b[36mhandle_task_id\u001b[0m:\u001b[36m21\u001b[0m - \u001b[1mWaiting for task dab8de1c-076c-491e-93e8-a4f96c9b61ee to be done - check number: 15\u001b[0m\n",
      "\u001b[32m2024-11-23 21:54:48.289\u001b[0m | \u001b[1mINFO    \u001b[0m | \u001b[36msdk.orchestrator_handling\u001b[0m:\u001b[36mhandle_task_id\u001b[0m:\u001b[36m21\u001b[0m - \u001b[1mWaiting for task dab8de1c-076c-491e-93e8-a4f96c9b61ee to be done - check number: 16\u001b[0m\n",
      "\u001b[32m2024-11-23 21:54:49.524\u001b[0m | \u001b[1mINFO    \u001b[0m | \u001b[36msdk.orchestrator_handling\u001b[0m:\u001b[36mhandle_task_id\u001b[0m:\u001b[36m21\u001b[0m - \u001b[1mWaiting for task dab8de1c-076c-491e-93e8-a4f96c9b61ee to be done - check number: 17\u001b[0m\n",
      "\u001b[32m2024-11-23 21:54:50.971\u001b[0m | \u001b[1mINFO    \u001b[0m | \u001b[36msdk.orchestrator_handling\u001b[0m:\u001b[36mhandle_task_id\u001b[0m:\u001b[36m21\u001b[0m - \u001b[1mWaiting for task dab8de1c-076c-491e-93e8-a4f96c9b61ee to be done - check number: 18\u001b[0m\n",
      "\u001b[32m2024-11-23 21:54:52.219\u001b[0m | \u001b[1mINFO    \u001b[0m | \u001b[36msdk.orchestrator_handling\u001b[0m:\u001b[36mhandle_task_id\u001b[0m:\u001b[36m21\u001b[0m - \u001b[1mWaiting for task dab8de1c-076c-491e-93e8-a4f96c9b61ee to be done - check number: 19\u001b[0m\n",
      "\u001b[32m2024-11-23 21:54:53.468\u001b[0m | \u001b[1mINFO    \u001b[0m | \u001b[36msdk.orchestrator_handling\u001b[0m:\u001b[36mhandle_task_id\u001b[0m:\u001b[36m21\u001b[0m - \u001b[1mWaiting for task dab8de1c-076c-491e-93e8-a4f96c9b61ee to be done - check number: 20\u001b[0m\n",
      "\u001b[32m2024-11-23 21:54:54.721\u001b[0m | \u001b[1mINFO    \u001b[0m | \u001b[36msdk.orchestrator_handling\u001b[0m:\u001b[36mhandle_task_id\u001b[0m:\u001b[36m21\u001b[0m - \u001b[1mWaiting for task dab8de1c-076c-491e-93e8-a4f96c9b61ee to be done - check number: 21\u001b[0m\n",
      "\u001b[32m2024-11-23 21:54:55.977\u001b[0m | \u001b[1mINFO    \u001b[0m | \u001b[36msdk.orchestrator_handling\u001b[0m:\u001b[36mhandle_task_id\u001b[0m:\u001b[36m21\u001b[0m - \u001b[1mWaiting for task dab8de1c-076c-491e-93e8-a4f96c9b61ee to be done - check number: 22\u001b[0m\n",
      "\u001b[32m2024-11-23 21:54:57.514\u001b[0m | \u001b[1mINFO    \u001b[0m | \u001b[36msdk.orchestrator_handling\u001b[0m:\u001b[36mhandle_task_id\u001b[0m:\u001b[36m21\u001b[0m - \u001b[1mWaiting for task dab8de1c-076c-491e-93e8-a4f96c9b61ee to be done - check number: 23\u001b[0m\n",
      "\u001b[32m2024-11-23 21:54:58.763\u001b[0m | \u001b[1mINFO    \u001b[0m | \u001b[36msdk.orchestrator_handling\u001b[0m:\u001b[36mhandle_task_id\u001b[0m:\u001b[36m21\u001b[0m - \u001b[1mWaiting for task dab8de1c-076c-491e-93e8-a4f96c9b61ee to be done - check number: 24\u001b[0m\n",
      "\u001b[32m2024-11-23 21:55:00.626\u001b[0m | \u001b[1mINFO    \u001b[0m | \u001b[36msdk.orchestrator_handling\u001b[0m:\u001b[36mhandle_task_id\u001b[0m:\u001b[36m21\u001b[0m - \u001b[1mWaiting for task dab8de1c-076c-491e-93e8-a4f96c9b61ee to be done - check number: 25\u001b[0m\n",
      "\u001b[32m2024-11-23 21:55:01.874\u001b[0m | \u001b[1mINFO    \u001b[0m | \u001b[36msdk.orchestrator_handling\u001b[0m:\u001b[36mhandle_task_id\u001b[0m:\u001b[36m21\u001b[0m - \u001b[1mWaiting for task dab8de1c-076c-491e-93e8-a4f96c9b61ee to be done - check number: 26\u001b[0m\n",
      "\u001b[32m2024-11-23 21:55:03.127\u001b[0m | \u001b[1mINFO    \u001b[0m | \u001b[36msdk.orchestrator_handling\u001b[0m:\u001b[36mhandle_task_id\u001b[0m:\u001b[36m21\u001b[0m - \u001b[1mWaiting for task dab8de1c-076c-491e-93e8-a4f96c9b61ee to be done - check number: 27\u001b[0m\n",
      "\u001b[32m2024-11-23 21:55:04.381\u001b[0m | \u001b[1mINFO    \u001b[0m | \u001b[36msdk.orchestrator_handling\u001b[0m:\u001b[36mhandle_task_id\u001b[0m:\u001b[36m21\u001b[0m - \u001b[1mWaiting for task dab8de1c-076c-491e-93e8-a4f96c9b61ee to be done - check number: 28\u001b[0m\n",
      "\u001b[32m2024-11-23 21:55:05.632\u001b[0m | \u001b[1mINFO    \u001b[0m | \u001b[36msdk.orchestrator_handling\u001b[0m:\u001b[36mhandle_task_id\u001b[0m:\u001b[36m21\u001b[0m - \u001b[1mWaiting for task dab8de1c-076c-491e-93e8-a4f96c9b61ee to be done - check number: 29\u001b[0m\n",
      "\u001b[32m2024-11-23 21:55:06.862\u001b[0m | \u001b[1mINFO    \u001b[0m | \u001b[36msdk.orchestrator_handling\u001b[0m:\u001b[36mhandle_task_id\u001b[0m:\u001b[36m21\u001b[0m - \u001b[1mWaiting for task dab8de1c-076c-491e-93e8-a4f96c9b61ee to be done - check number: 30\u001b[0m\n",
      "\u001b[32m2024-11-23 21:55:08.109\u001b[0m | \u001b[1mINFO    \u001b[0m | \u001b[36msdk.orchestrator_handling\u001b[0m:\u001b[36mhandle_task_id\u001b[0m:\u001b[36m21\u001b[0m - \u001b[1mWaiting for task dab8de1c-076c-491e-93e8-a4f96c9b61ee to be done - check number: 31\u001b[0m\n",
      "\u001b[32m2024-11-23 21:55:09.572\u001b[0m | \u001b[1mINFO    \u001b[0m | \u001b[36msdk.orchestrator_handling\u001b[0m:\u001b[36mhandle_task_id\u001b[0m:\u001b[36m21\u001b[0m - \u001b[1mWaiting for task dab8de1c-076c-491e-93e8-a4f96c9b61ee to be done - check number: 32\u001b[0m\n",
      "\u001b[32m2024-11-23 21:55:10.821\u001b[0m | \u001b[1mINFO    \u001b[0m | \u001b[36msdk.orchestrator_handling\u001b[0m:\u001b[36mhandle_task_id\u001b[0m:\u001b[36m21\u001b[0m - \u001b[1mWaiting for task dab8de1c-076c-491e-93e8-a4f96c9b61ee to be done - check number: 33\u001b[0m\n",
      "\u001b[32m2024-11-23 21:55:12.073\u001b[0m | \u001b[1mINFO    \u001b[0m | \u001b[36msdk.orchestrator_handling\u001b[0m:\u001b[36mhandle_task_id\u001b[0m:\u001b[36m21\u001b[0m - \u001b[1mWaiting for task dab8de1c-076c-491e-93e8-a4f96c9b61ee to be done - check number: 34\u001b[0m\n",
      "\u001b[32m2024-11-23 21:55:13.326\u001b[0m | \u001b[1mINFO    \u001b[0m | \u001b[36msdk.orchestrator_handling\u001b[0m:\u001b[36mhandle_task_id\u001b[0m:\u001b[36m21\u001b[0m - \u001b[1mWaiting for task dab8de1c-076c-491e-93e8-a4f96c9b61ee to be done - check number: 35\u001b[0m\n",
      "\u001b[32m2024-11-23 21:55:14.860\u001b[0m | \u001b[1mINFO    \u001b[0m | \u001b[36msdk.orchestrator_handling\u001b[0m:\u001b[36mhandle_task_id\u001b[0m:\u001b[36m21\u001b[0m - \u001b[1mWaiting for task dab8de1c-076c-491e-93e8-a4f96c9b61ee to be done - check number: 36\u001b[0m\n",
      "\u001b[32m2024-11-23 21:55:16.457\u001b[0m | \u001b[1mINFO    \u001b[0m | \u001b[36msdk.orchestrator_handling\u001b[0m:\u001b[36mhandle_task_id\u001b[0m:\u001b[36m21\u001b[0m - \u001b[1mWaiting for task dab8de1c-076c-491e-93e8-a4f96c9b61ee to be done - check number: 37\u001b[0m\n",
      "\u001b[32m2024-11-23 21:55:17.702\u001b[0m | \u001b[1mINFO    \u001b[0m | \u001b[36msdk.orchestrator_handling\u001b[0m:\u001b[36mhandle_task_id\u001b[0m:\u001b[36m21\u001b[0m - \u001b[1mWaiting for task dab8de1c-076c-491e-93e8-a4f96c9b61ee to be done - check number: 38\u001b[0m\n",
      "\u001b[32m2024-11-23 21:55:18.955\u001b[0m | \u001b[1mINFO    \u001b[0m | \u001b[36msdk.orchestrator_handling\u001b[0m:\u001b[36mhandle_task_id\u001b[0m:\u001b[36m21\u001b[0m - \u001b[1mWaiting for task dab8de1c-076c-491e-93e8-a4f96c9b61ee to be done - check number: 39\u001b[0m\n",
      "\u001b[32m2024-11-23 21:55:20.236\u001b[0m | \u001b[1mINFO    \u001b[0m | \u001b[36msdk.orchestrator_handling\u001b[0m:\u001b[36mhandle_task_id\u001b[0m:\u001b[36m21\u001b[0m - \u001b[1mWaiting for task dab8de1c-076c-491e-93e8-a4f96c9b61ee to be done - check number: 40\u001b[0m\n",
      "\u001b[32m2024-11-23 21:55:21.487\u001b[0m | \u001b[1mINFO    \u001b[0m | \u001b[36msdk.orchestrator_handling\u001b[0m:\u001b[36mhandle_task_id\u001b[0m:\u001b[36m21\u001b[0m - \u001b[1mWaiting for task dab8de1c-076c-491e-93e8-a4f96c9b61ee to be done - check number: 41\u001b[0m\n",
      "\u001b[32m2024-11-23 21:55:22.742\u001b[0m | \u001b[1mINFO    \u001b[0m | \u001b[36msdk.orchestrator_handling\u001b[0m:\u001b[36mhandle_task_id\u001b[0m:\u001b[36m21\u001b[0m - \u001b[1mWaiting for task dab8de1c-076c-491e-93e8-a4f96c9b61ee to be done - check number: 42\u001b[0m\n",
      "\u001b[32m2024-11-23 21:55:24.057\u001b[0m | \u001b[1mINFO    \u001b[0m | \u001b[36msdk.orchestrator_handling\u001b[0m:\u001b[36mhandle_task_id\u001b[0m:\u001b[36m21\u001b[0m - \u001b[1mWaiting for task dab8de1c-076c-491e-93e8-a4f96c9b61ee to be done - check number: 43\u001b[0m\n",
      "\u001b[32m2024-11-23 21:55:25.309\u001b[0m | \u001b[1mINFO    \u001b[0m | \u001b[36msdk.orchestrator_handling\u001b[0m:\u001b[36mhandle_task_id\u001b[0m:\u001b[36m21\u001b[0m - \u001b[1mWaiting for task dab8de1c-076c-491e-93e8-a4f96c9b61ee to be done - check number: 44\u001b[0m\n",
      "\u001b[32m2024-11-23 21:55:26.572\u001b[0m | \u001b[1mINFO    \u001b[0m | \u001b[36msdk.orchestrator_handling\u001b[0m:\u001b[36mhandle_task_id\u001b[0m:\u001b[36m21\u001b[0m - \u001b[1mWaiting for task dab8de1c-076c-491e-93e8-a4f96c9b61ee to be done - check number: 45\u001b[0m\n",
      "\u001b[32m2024-11-23 21:55:27.808\u001b[0m | \u001b[1mINFO    \u001b[0m | \u001b[36msdk.orchestrator_handling\u001b[0m:\u001b[36mhandle_task_id\u001b[0m:\u001b[36m21\u001b[0m - \u001b[1mWaiting for task dab8de1c-076c-491e-93e8-a4f96c9b61ee to be done - check number: 46\u001b[0m\n",
      "\u001b[32m2024-11-23 21:55:29.056\u001b[0m | \u001b[1mINFO    \u001b[0m | \u001b[36msdk.orchestrator_handling\u001b[0m:\u001b[36mhandle_task_id\u001b[0m:\u001b[36m21\u001b[0m - \u001b[1mWaiting for task dab8de1c-076c-491e-93e8-a4f96c9b61ee to be done - check number: 47\u001b[0m\n",
      "\u001b[32m2024-11-23 21:55:30.308\u001b[0m | \u001b[1mINFO    \u001b[0m | \u001b[36msdk.orchestrator_handling\u001b[0m:\u001b[36mhandle_task_id\u001b[0m:\u001b[36m21\u001b[0m - \u001b[1mWaiting for task dab8de1c-076c-491e-93e8-a4f96c9b61ee to be done - check number: 48\u001b[0m\n",
      "\u001b[32m2024-11-23 21:55:31.555\u001b[0m | \u001b[1mINFO    \u001b[0m | \u001b[36msdk.orchestrator_handling\u001b[0m:\u001b[36mhandle_task_id\u001b[0m:\u001b[36m21\u001b[0m - \u001b[1mWaiting for task dab8de1c-076c-491e-93e8-a4f96c9b61ee to be done - check number: 49\u001b[0m\n",
      "\u001b[32m2024-11-23 21:55:32.779\u001b[0m | \u001b[1mINFO    \u001b[0m | \u001b[36msdk.orchestrator_handling\u001b[0m:\u001b[36mhandle_task_id\u001b[0m:\u001b[36m21\u001b[0m - \u001b[1mWaiting for task dab8de1c-076c-491e-93e8-a4f96c9b61ee to be done - check number: 50\u001b[0m\n",
      "\u001b[32m2024-11-23 21:55:34.007\u001b[0m | \u001b[1mINFO    \u001b[0m | \u001b[36msdk.orchestrator_handling\u001b[0m:\u001b[36mhandle_task_id\u001b[0m:\u001b[36m21\u001b[0m - \u001b[1mWaiting for task dab8de1c-076c-491e-93e8-a4f96c9b61ee to be done - check number: 51\u001b[0m\n",
      "\u001b[32m2024-11-23 21:55:35.231\u001b[0m | \u001b[1mINFO    \u001b[0m | \u001b[36msdk.orchestrator_handling\u001b[0m:\u001b[36mhandle_task_id\u001b[0m:\u001b[36m21\u001b[0m - \u001b[1mWaiting for task dab8de1c-076c-491e-93e8-a4f96c9b61ee to be done - check number: 52\u001b[0m\n",
      "\u001b[32m2024-11-23 21:55:36.459\u001b[0m | \u001b[1mINFO    \u001b[0m | \u001b[36msdk.orchestrator_handling\u001b[0m:\u001b[36mhandle_task_id\u001b[0m:\u001b[36m21\u001b[0m - \u001b[1mWaiting for task dab8de1c-076c-491e-93e8-a4f96c9b61ee to be done - check number: 53\u001b[0m\n",
      "\u001b[32m2024-11-23 21:55:37.688\u001b[0m | \u001b[1mINFO    \u001b[0m | \u001b[36msdk.orchestrator_handling\u001b[0m:\u001b[36mhandle_task_id\u001b[0m:\u001b[36m21\u001b[0m - \u001b[1mWaiting for task dab8de1c-076c-491e-93e8-a4f96c9b61ee to be done - check number: 54\u001b[0m\n",
      "\u001b[32m2024-11-23 21:55:38.918\u001b[0m | \u001b[1mINFO    \u001b[0m | \u001b[36msdk.orchestrator_handling\u001b[0m:\u001b[36mhandle_task_id\u001b[0m:\u001b[36m21\u001b[0m - \u001b[1mWaiting for task dab8de1c-076c-491e-93e8-a4f96c9b61ee to be done - check number: 55\u001b[0m\n",
      "\u001b[32m2024-11-23 21:55:40.143\u001b[0m | \u001b[1mINFO    \u001b[0m | \u001b[36msdk.orchestrator_handling\u001b[0m:\u001b[36mhandle_task_id\u001b[0m:\u001b[36m21\u001b[0m - \u001b[1mWaiting for task dab8de1c-076c-491e-93e8-a4f96c9b61ee to be done - check number: 56\u001b[0m\n",
      "\u001b[32m2024-11-23 21:55:41.367\u001b[0m | \u001b[1mINFO    \u001b[0m | \u001b[36msdk.orchestrator_handling\u001b[0m:\u001b[36mhandle_task_id\u001b[0m:\u001b[36m21\u001b[0m - \u001b[1mWaiting for task dab8de1c-076c-491e-93e8-a4f96c9b61ee to be done - check number: 57\u001b[0m\n",
      "\u001b[32m2024-11-23 21:55:42.591\u001b[0m | \u001b[1mINFO    \u001b[0m | \u001b[36msdk.orchestrator_handling\u001b[0m:\u001b[36mhandle_task_id\u001b[0m:\u001b[36m21\u001b[0m - \u001b[1mWaiting for task dab8de1c-076c-491e-93e8-a4f96c9b61ee to be done - check number: 58\u001b[0m\n",
      "\u001b[32m2024-11-23 21:55:43.817\u001b[0m | \u001b[1mINFO    \u001b[0m | \u001b[36msdk.orchestrator_handling\u001b[0m:\u001b[36mhandle_task_id\u001b[0m:\u001b[36m21\u001b[0m - \u001b[1mWaiting for task dab8de1c-076c-491e-93e8-a4f96c9b61ee to be done - check number: 59\u001b[0m\n",
      "\u001b[32m2024-11-23 21:55:45.038\u001b[0m | \u001b[1mINFO    \u001b[0m | \u001b[36msdk.orchestrator_handling\u001b[0m:\u001b[36mhandle_task_id\u001b[0m:\u001b[36m21\u001b[0m - \u001b[1mWaiting for task dab8de1c-076c-491e-93e8-a4f96c9b61ee to be done - check number: 60\u001b[0m\n",
      "\u001b[32m2024-11-23 21:55:46.262\u001b[0m | \u001b[1mINFO    \u001b[0m | \u001b[36msdk.orchestrator_handling\u001b[0m:\u001b[36mhandle_task_id\u001b[0m:\u001b[36m21\u001b[0m - \u001b[1mWaiting for task dab8de1c-076c-491e-93e8-a4f96c9b61ee to be done - check number: 61\u001b[0m\n",
      "\u001b[32m2024-11-23 21:55:47.483\u001b[0m | \u001b[1mINFO    \u001b[0m | \u001b[36msdk.orchestrator_handling\u001b[0m:\u001b[36mhandle_task_id\u001b[0m:\u001b[36m21\u001b[0m - \u001b[1mWaiting for task dab8de1c-076c-491e-93e8-a4f96c9b61ee to be done - check number: 62\u001b[0m\n",
      "\u001b[32m2024-11-23 21:55:48.707\u001b[0m | \u001b[1mINFO    \u001b[0m | \u001b[36msdk.orchestrator_handling\u001b[0m:\u001b[36mhandle_task_id\u001b[0m:\u001b[36m21\u001b[0m - \u001b[1mWaiting for task dab8de1c-076c-491e-93e8-a4f96c9b61ee to be done - check number: 63\u001b[0m\n",
      "\u001b[32m2024-11-23 21:55:49.932\u001b[0m | \u001b[1mINFO    \u001b[0m | \u001b[36msdk.orchestrator_handling\u001b[0m:\u001b[36mhandle_task_id\u001b[0m:\u001b[36m33\u001b[0m - \u001b[1mTask dab8de1c-076c-491e-93e8-a4f96c9b61ee is done: {'task_id': 'dab8de1c-076c-491e-93e8-a4f96c9b61ee', 'result': {'node_scores': {'0': 0.0}, 'timestamp': '2024-11-23T20:55:49.764517', 'error_message': None, 'traceback': None}, 'status': 'Success'}\u001b[0m\n",
      "\u001b[32m2024-11-23 21:55:49.933\u001b[0m | \u001b[1mINFO    \u001b[0m | \u001b[36msdk.sdk\u001b[0m:\u001b[36mcheck_result\u001b[0m:\u001b[36m88\u001b[0m - \u001b[1mTask dab8de1c-076c-491e-93e8-a4f96c9b61ee is done: ({'node_scores': {'0': 0.0}, 'timestamp': '2024-11-23T20:55:49.764517', 'error_message': None, 'traceback': None}, 0)\u001b[0m\n"
     ]
    },
    {
     "data": {
      "text/plain": [
       "({'node_scores': {'0': 0.0},\n",
       "  'timestamp': '2024-11-23T20:55:49.764517',\n",
       "  'error_message': None,\n",
       "  'traceback': None},\n",
       " 0)"
      ]
     },
     "execution_count": 33,
     "metadata": {},
     "output_type": "execute_result"
    }
   ],
   "source": []
  }
 ],
 "metadata": {
  "kernelspec": {
   "display_name": "venv",
   "language": "python",
   "name": "python3"
  },
  "language_info": {
   "codemirror_mode": {
    "name": "ipython",
    "version": 3
   },
   "file_extension": ".py",
   "mimetype": "text/x-python",
   "name": "python",
   "nbconvert_exporter": "python",
   "pygments_lexer": "ipython3",
   "version": "3.10.13"
  }
 },
 "nbformat": 4,
 "nbformat_minor": 2
}
